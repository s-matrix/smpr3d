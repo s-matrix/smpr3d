{
 "cells": [
  {
   "cell_type": "code",
   "execution_count": null,
   "metadata": {},
   "outputs": [],
   "source": [
    "import smatrix as sm\n",
    "\n",
    "filename = ''\n",
    "data = sm.Sparse4DData.from_4Dcamera_file(filename)\n",
    "\n",
    "center, radius = sm.util.determine_center_and_radius(data, manual=False)\n",
    "\n",
    "data.crop_symmetric_center_(center)\n",
    "\n",
    "rotation_deg = 0 #sm.util.determine_rotation(data)\n",
    "\n",
    "E_ev = 80e3\n",
    "lam = wavelength(E_ev)\n",
    "alpha_rad = 20e-3\n",
    "\n",
    "alpha_max = data.diffraction_shape / radius * alpha_rad\n",
    "k_max = alpha_max / lam\n",
    "\n",
    "metadata = sm.Metadata4D(E_ev = E_ev, \n",
    "                       alpha_rad = alpha_rad, \n",
    "                       dr=[0.3,0.3],\n",
    "                       k_max = k_max,\n",
    "                       rotation_deg = rotation_deg)\n",
    "\n",
    "options = sm.ReconstructionOptions()\n",
    "\n",
    "out = sm.reconstruct(data, metadata, options)\n",
    "\n",
    "S = out.smatrix\n",
    "r = out.r\n",
    "Psi = out.Psi\n",
    "R_factor = out.R_factors\n",
    "\n",
    "sm.util.visualize_smatrix(S)        \n",
    "        \n",
    "\n"
   ]
  }
 ],
 "metadata": {
  "kernelspec": {
   "display_name": "Python 3",
   "language": "python",
   "name": "python3"
  },
  "language_info": {
   "codemirror_mode": {
    "name": "ipython",
    "version": 3
   },
   "file_extension": ".py",
   "mimetype": "text/x-python",
   "name": "python",
   "nbconvert_exporter": "python",
   "pygments_lexer": "ipython3",
   "version": "3.8.8"
  },
  "pycharm": {
   "stem_cell": {
    "cell_type": "raw",
    "metadata": {
     "collapsed": false
    },
    "source": []
   }
  }
 },
 "nbformat": 4,
 "nbformat_minor": 4
}
