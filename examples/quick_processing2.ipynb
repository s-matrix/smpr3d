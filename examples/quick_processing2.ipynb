{
 "cells": [
  {
   "cell_type": "code",
   "execution_count": 1,
   "metadata": {
    "pycharm": {
     "is_executing": false
    }
   },
   "outputs": [],
   "source": [
    "%matplotlib widget\n",
    "from smpr3d.core import Sparse4DData, Metadata4D\n",
    "from numpy.fft import fftshift, fft2\n",
    "import matplotlib\n",
    "import matplotlib.pyplot as plt \n",
    "import numpy as np\n",
    "from matplotlib_scalebar.scalebar import ScaleBar\n",
    "from pathlib import Path\n",
    "from smpr3d.util import *\n",
    "from mpl_toolkits.axes_grid1 import make_axes_locatable\n",
    "from tifffile import imsave, imwrite\n",
    "\n",
    "scan_number = 358\n",
    "\n",
    "# base_path = Path('/home/philipp/nvme/insync_berkeley/2020-09-22/')\n",
    "base_path = Path('/home/philipp/nvme/2021-04-30_tomo/')\n",
    "\n",
    "adfpath = base_path / 'adf'\n",
    "adfpath = Path('/home/philipp/team05/PhilippPelz/2021-04-28/')\n",
    "\n",
    "sparse_path = base_path / '4d/'\n",
    "\n",
    "results_path = base_path / 'results/'\n",
    "results_path_scan = results_path / f'scan{scan_number}'\n",
    "results_path_vadf = results_path / f'vadf'\n",
    "results_path_adf = results_path / f'adf'\n",
    "results_path_abf = results_path / f'abf'\n",
    "results_path_bf = results_path / f'bf'\n",
    "results_path_dpc = results_path / f'dpc'\n",
    "results_path_ptychography = results_path / f'dpc'\n",
    "\n",
    "if not results_path.exists(): results_path.mkdir()\n",
    "if not results_path_scan.exists(): results_path_scan.mkdir()\n",
    "if not results_path_vadf.exists(): results_path_vadf.mkdir()\n",
    "if not results_path_adf.exists(): results_path_adf.mkdir()\n",
    "if not results_path_abf.exists(): results_path_abf.mkdir()\n",
    "if not results_path_bf.exists(): results_path_bf.mkdir()\n",
    "if not results_path_dpc.exists(): results_path_dpc.mkdir()\n",
    "if not results_path_ptychography.exists(): results_path_ptychography.mkdir()\n",
    "    \n",
    "filename4d = sparse_path / f'data_scan{scan_number}_th4.0_electrons.h5'\n",
    "filenameadf = adfpath / f'scan{scan_number}.dm4'"
   ]
  },
  {
   "cell_type": "code",
   "execution_count": 2,
   "metadata": {},
   "outputs": [],
   "source": [
    "# from numba import jit\n",
    "# import h5py\n",
    "\n",
    "# @jit\n",
    "# def unragged_frames_size(frames):\n",
    "#         mm = 0\n",
    "#         for ev in frames:\n",
    "#             if ev.shape[0] > mm:\n",
    "#                 mm = ev.shape[0]\n",
    "#         return mm\n",
    "\n",
    "# @jit(nopython=True)\n",
    "# def make_unragged_frames(frames, scan_dimensions):\n",
    "#     unragged_frame_size = unragged_frames_size(frames.ravel())\n",
    "#     fr_full = np.zeros((frames.ravel().shape[0], unragged_frame_size), dtype=np.int32)\n",
    "#     fr_full[:] = np.iinfo(fr_full.dtype).max\n",
    "#     for ii, ev in enumerate(frames.ravel()):\n",
    "#         fr_full[ii, :ev.shape[0]] = ev\n",
    "#     fr_full_4d = fr_full.reshape((*scan_dimensions, fr_full.shape[1]))\n",
    "#     fr_full_4d = fr_full_4d[:, :-1, :] \n",
    "#     return fr_full_4d\n",
    "    \n",
    "# def from_4Dcamera_file(filename):\n",
    "#     with h5py.File(filename, 'r') as f0:\n",
    "#         frames = f0['electron_events/frames'][:]\n",
    "#         scan_dimensions = (f0['electron_events/scan_positions'].attrs['Ny'],\n",
    "#                            f0['electron_events/scan_positions'].attrs['Nx'])\n",
    "#         frame_dimensions = np.array((576, 576))\n",
    "\n",
    "#     d = Sparse4DData()\n",
    "#     d.indices = np.ascontiguousarray(make_unragged_frames(frames.ravel(), scan_dimensions))\n",
    "#     d.scan_dimensions = np.array(d.indices.shape[:2])\n",
    "#     d.frame_dimensions = frame_dimensions\n",
    "#     d.counts = np.zeros(d.indices.shape, dtype=np.bool)\n",
    "#     d.counts[d.indices != np.iinfo(d.indices.dtype).max] = 1\n",
    "\n",
    "#     return d "
   ]
  },
  {
   "cell_type": "code",
   "execution_count": 3,
   "metadata": {
    "pycharm": {
     "is_executing": false,
     "name": "#%%\n"
    }
   },
   "outputs": [
    {
     "name": "stdout",
     "output_type": "stream",
     "text": [
      "1\n",
      "[290.03576852 167.0052303 ] 120\n",
      "2\n",
      "old frames shape: (512, 512, 1146)\n",
      "new frames shape: (512, 512, 1146)\n",
      "old frames frame_dimensions: [576 576]\n",
      "new frames frame_dimensions: [334 334]\n",
      "3\n",
      "4\n"
     ]
    },
    {
     "data": {
      "application/vnd.jupyter.widget-view+json": {
       "model_id": "40e2e7c079174abe9e13103a6d1e1fd9",
       "version_major": 2,
       "version_minor": 0
      },
      "text/plain": [
       "Canvas(toolbar=Toolbar(toolitems=[('Home', 'Reset original view', 'home', 'home'), ('Back', 'Back to previous …"
      ]
     },
     "metadata": {},
     "output_type": "display_data"
    }
   ],
   "source": [
    "da = []\n",
    "mda = []\n",
    "\n",
    "results_path_scan = results_path / f'scan{scan_number}'\n",
    "if not results_path_scan.exists():\n",
    "    results_path_scan.mkdir()\n",
    "filename4d = sparse_path / f'data_scan{scan_number}_th4.0_electrons.h5'\n",
    "# filename4d = sparse_path / f'data_scan{scan_number}_th4.5_electrons.h5'\n",
    "# filename4d = sparse_path / f'data_scan{scan_number}_th4_electrons.h5'\n",
    "filenameadf = adfpath / f'scan{scan_number}.dm4'\n",
    "# filenameadf = adfpath / f'scan{scan_number}_ADF.dm4'\n",
    "d = Sparse4DData.from_4Dcamera_file(filename4d)\n",
    "print('1')\n",
    "metadata = Metadata4D.from_dm4_file(filenameadf)\n",
    "metadata.alpha_rad = 25e-3\n",
    "metadata.alpha_rad = 20e-3\n",
    "metadata.rotation_deg = 0\n",
    "metadata.wavelength =  wavelength(metadata.E_ev)  \n",
    "mda.append(metadata)\n",
    "\n",
    "center, radius = d.determine_center_and_radius(manual=False, size=200) \n",
    "# center = [292.0,169.0]\n",
    "radius = 120\n",
    "print(center,radius)\n",
    "# center[0] -= 2\n",
    "# center[1] -= 3\n",
    "print('2')\n",
    "d.crop_symmetric_center_(center)\n",
    "print('3')\n",
    "s = d.sum_diffraction()\n",
    "print('4')\n",
    "\n",
    "da.append(d)\n",
    "\n",
    "f,ax = plt.subplots(figsize=(4,4))\n",
    "imax = ax.imshow(s)\n",
    "ax.set_title(f'Scan {scan_number} sum after cropping')\n",
    "plt.colorbar(imax)\n",
    "plt.tight_layout()\n",
    "f.savefig(results_path_scan /f'sum_crop.png')"
   ]
  },
  {
   "cell_type": "code",
   "execution_count": 4,
   "metadata": {
    "pycharm": {
     "is_executing": false,
     "name": "#%%\n"
    },
    "tags": []
   },
   "outputs": [],
   "source": [
    "abf = d.virtual_annular_image(radius/2, radius, d.frame_dimensions/2)\n",
    "bf = d.virtual_annular_image(0, radius/2, d.frame_dimensions/2)\n",
    "eabf = abf - bf\n",
    "adf = d.virtual_annular_image(radius, d.frame_dimensions[0]/2, d.frame_dimensions/2)\n",
    "\n",
    "bf[bf==0] = bf.mean()\n",
    "abf[abf==0] = abf.mean()"
   ]
  },
  {
   "cell_type": "code",
   "execution_count": 5,
   "metadata": {},
   "outputs": [
    {
     "data": {
      "application/vnd.jupyter.widget-view+json": {
       "model_id": "ed8066c82f934216a718155a333719fb",
       "version_major": 2,
       "version_minor": 0
      },
      "text/plain": [
       "Canvas(toolbar=Toolbar(toolitems=[('Home', 'Reset original view', 'home', 'home'), ('Back', 'Back to previous …"
      ]
     },
     "metadata": {},
     "output_type": "display_data"
    },
    {
     "data": {
      "application/vnd.jupyter.widget-view+json": {
       "model_id": "856fe0ee28484fc9bb8670b4d4e079ef",
       "version_major": 2,
       "version_minor": 0
      },
      "text/plain": [
       "Canvas(toolbar=Toolbar(toolitems=[('Home', 'Reset original view', 'home', 'home'), ('Back', 'Back to previous …"
      ]
     },
     "metadata": {},
     "output_type": "display_data"
    },
    {
     "data": {
      "application/vnd.jupyter.widget-view+json": {
       "model_id": "8909a03b14ba40e0b46c105bfe9a0799",
       "version_major": 2,
       "version_minor": 0
      },
      "text/plain": [
       "Canvas(toolbar=Toolbar(toolitems=[('Home', 'Reset original view', 'home', 'home'), ('Back', 'Back to previous …"
      ]
     },
     "metadata": {},
     "output_type": "display_data"
    }
   ],
   "source": [
    "\n",
    "w,h = matplotlib.figure.figaspect(bf)\n",
    "fig, ax = plt.subplots(dpi=150,figsize=(w, h))\n",
    "im = ax.imshow(abf, cmap= plt.cm.get_cmap('bone'))\n",
    "ax.set_title(f'Scan {scan_number} ABF')\n",
    "ax.set_xticks([])\n",
    "ax.set_yticks([])\n",
    "ax.add_artist(ScaleBar(metadata.scan_step[0]/10,'nm'))\n",
    "divider = make_axes_locatable(ax)\n",
    "cax = divider.append_axes(\"right\", size=\"5%\", pad=0.05)\n",
    "plt.colorbar(im, cax=cax)\n",
    "plt.tight_layout()\n",
    "fig.savefig(results_path_abf /f'scan{scan_number}_abf.png')\n",
    "fig.savefig(results_path_scan /f'scan{scan_number}_abf.png')\n",
    "fig.savefig(results_path_adf /f'scan{scan_number}_abf.pdf')\n",
    "fig, ax = plt.subplots(dpi=150,figsize=(w, h))\n",
    "im = ax.imshow(bf, cmap= plt.cm.get_cmap('bone'))\n",
    "ax.set_title(f'Scan {scan_number} BF')\n",
    "ax.set_xticks([])\n",
    "ax.set_yticks([])\n",
    "ax.add_artist(ScaleBar(metadata.scan_step[0]/10,'nm'))\n",
    "divider = make_axes_locatable(ax)\n",
    "cax = divider.append_axes(\"right\", size=\"5%\", pad=0.05)\n",
    "plt.colorbar(im, cax=cax)\n",
    "plt.tight_layout()\n",
    "fig.savefig(results_path_bf /f'scan{scan_number}_bf.png')\n",
    "fig.savefig(results_path_scan /f'scan{scan_number}_bf.png')\n",
    "fig.savefig(results_path_adf /f'scan{scan_number}_bf.pdf')\n",
    "fig, ax = plt.subplots(dpi=150,figsize=(w, h))\n",
    "im = ax.imshow(adf, cmap= plt.cm.get_cmap('bone'))\n",
    "ax.set_title(f'Scan {scan_number} ADF')\n",
    "ax.set_xticks([])\n",
    "ax.set_yticks([])\n",
    "ax.add_artist(ScaleBar(metadata.scan_step[0]/10,'nm'))\n",
    "divider = make_axes_locatable(ax)\n",
    "cax = divider.append_axes(\"right\", size=\"5%\", pad=0.05)\n",
    "plt.colorbar(im, cax=cax)\n",
    "plt.tight_layout()\n",
    "\n",
    "# imwrite(results_path_scan /f'scan{scan_number}_abf.tif', abf.astype('float32'), imagej=True, resolution=(1./(metadata.scan_step[0]/10), 1./(metadata.scan_step[1]/10)),\n",
    "#             metadata={'spacing': 1 / 10, 'unit': 'nm', 'axes': 'ZYX'})\n",
    "# imwrite(results_path_scan /f'scan{scan_number}_bf.tif', bf.astype('float32'), imagej=True, resolution=(1./(metadata.scan_step[0]/10), 1./(metadata.scan_step[1]/10)),\n",
    "#             metadata={'spacing': 1 / 10, 'unit': 'nm', 'axes': 'ZYX'})\n",
    "# imwrite(results_path_scan /f'scan{scan_number}_eabf.tif', eabf.astype('float32'), imagej=True, resolution=(1./(metadata.scan_step[0]/10), 1./(metadata.scan_step[1]/10)),\n",
    "#             metadata={'spacing': 1 / 10, 'unit': 'nm', 'axes': 'ZYX'})\n",
    "# imwrite(results_path_scan /f'scan{scan_number}_adf', adf.astype('float32'), imagej=True, resolution=(1./(metadata.scan_step[0]/10), 1./(metadata.scan_step[1]/10)),\n",
    "#             metadata={'spacing': 1 / 10, 'unit': 'nm', 'axes': 'ZYX'})\n",
    "\n",
    "fig.savefig(results_path_adf /f'scan{scan_number}_adf.png')\n",
    "fig.savefig(results_path_scan /f'scan{scan_number}_adf.png')\n",
    "fig.savefig(results_path_adf /f'scan{scan_number}_adf.pdf')"
   ]
  },
  {
   "cell_type": "code",
   "execution_count": 6,
   "metadata": {
    "pycharm": {
     "is_executing": false
    },
    "tags": []
   },
   "outputs": [
    {
     "name": "stdout",
     "output_type": "stream",
     "text": [
      "radius: 120\n",
      "[min,max] electrons to avoid coincidence losses: [452.0,1130.0]\n",
      "dR              = [0.22213781 0.22213781] Å\n",
      "scan       size = [512 512]\n",
      "detector   size = [334 334]\n",
      "scan       FOV  = [11.37345581 11.37345581] nm\n",
      "fluence         ~ 19049.463345044624 e/Å^2\n",
      "flux            ~ 6322.110408854989 e/Å^2/s\n"
     ]
    }
   ],
   "source": [
    "dwell_time = 1/87e3\n",
    "detector_to_real_fluence_80kv = 1#1/0.56\n",
    "\n",
    "fluence = d.fluence(metadata.scan_step[0]) * detector_to_real_fluence_80kv\n",
    "flux = d.flux(metadata.scan_step[0], dwell_time) * detector_to_real_fluence_80kv\n",
    "\n",
    "\n",
    "area = np.pi * radius **2\n",
    "\n",
    "# print(f\"E               = {metadata.E_ev/1e3}             keV\")\n",
    "# print(f\"λ               = {metadata.wavelength * 1e2:2.2}   pm\")\n",
    "print(f'radius: {radius}')\n",
    "print(f'[min,max] electrons to avoid coincidence losses: [{area//100},{area//40}]')\n",
    "print(f\"dR              = {metadata.scan_step} Å\")\n",
    "print(f\"scan       size = {d.scan_dimensions}\")\n",
    "print(f\"detector   size = {d.frame_dimensions}\")\n",
    "print(f\"scan       FOV  = {d.scan_dimensions*metadata.scan_step/10} nm\")\n",
    "print(f\"fluence         ~ {fluence} e/Å^2\")\n",
    "print(f\"flux            ~ {flux} e/Å^2/s\")"
   ]
  },
  {
   "cell_type": "code",
   "execution_count": 7,
   "metadata": {
    "tags": []
   },
   "outputs": [
    {
     "name": "stdout",
     "output_type": "stream",
     "text": [
      "old frames shape: (512, 512, 1146)\n",
      "new frames shape: (512, 512, 1146)\n",
      "old frames frame_dimensions: [334 334]\n",
      "new frames frame_dimensions: [252 252]\n"
     ]
    },
    {
     "data": {
      "application/vnd.jupyter.widget-view+json": {
       "model_id": "02130a22d1f64d3f92019908f5ff1c14",
       "version_major": 2,
       "version_minor": 0
      },
      "text/plain": [
       "Canvas(toolbar=Toolbar(toolitems=[('Home', 'Reset original view', 'home', 'home'), ('Back', 'Back to previous …"
      ]
     },
     "metadata": {},
     "output_type": "display_data"
    },
    {
     "data": {
      "text/plain": [
       "<matplotlib.colorbar.Colorbar at 0x7f936e325700>"
      ]
     },
     "execution_count": 7,
     "metadata": {},
     "output_type": "execute_result"
    }
   ],
   "source": [
    "alpha_max_factor = 1.2\n",
    "alpha_max_factor = 1.05\n",
    "dssb = d.crop_symmetric_center(d.frame_dimensions/2, radius*alpha_max_factor)\n",
    "metadata.k_max = metadata.alpha_rad * alpha_max_factor / metadata.wavelength\n",
    "\n",
    "s = dssb.sum_diffraction()\n",
    "\n",
    "f,ax = plt.subplots(figsize=(4,4))\n",
    "imax = ax.imshow(s)\n",
    "plt.colorbar(imax)"
   ]
  },
  {
   "cell_type": "code",
   "execution_count": 8,
   "metadata": {},
   "outputs": [
    {
     "data": {
      "text/plain": [
       "Metadata4D(scan_step=array([0.22213781, 0.22213781], dtype=float32), pixel_step=array([0, 0]), k_max=0.5029076208645908, alpha_rad=0.02, rotation_deg=0, E_ev=80000.0, wavelength=0.041757171951176904, aberrations=array([0., 0., 0., 0., 0., 0., 0., 0., 0., 0., 0., 0.]))"
      ]
     },
     "execution_count": 8,
     "metadata": {},
     "output_type": "execute_result"
    }
   ],
   "source": [
    "metadata"
   ]
  },
  {
   "cell_type": "code",
   "execution_count": 9,
   "metadata": {
    "tags": []
   },
   "outputs": [
    {
     "name": "stdout",
     "output_type": "stream",
     "text": [
      "radius_data_int : 126 \n",
      "radius_max_int  : 126 \n",
      "Dense frame size: 12x 12\n",
      "sparse_to_dense_datacube_crop_gain_mask dtypes: torch.float32 torch.int32 torch.float32 int64\n"
     ]
    },
    {
     "data": {
      "application/vnd.jupyter.widget-view+json": {
       "model_id": "81d32135fcf5473bba15ad4b8c3ffec5",
       "version_major": 2,
       "version_minor": 0
      },
      "text/plain": [
       "GridspecLayout(children=(Output(layout=Layout(border='1px solid black', grid_area='widget001'), outputs=({'out…"
      ]
     },
     "metadata": {},
     "output_type": "display_data"
    }
   ],
   "source": [
    "import time\n",
    "from smpr3d.util import get_qx_qy_1D, ZernikeProbeSingle, fourier_coordinates_2D, imsave\n",
    "from ipywidgets import AppLayout, FloatSlider, GridspecLayout, VBox, Tab, Box, HBox, IntSlider\n",
    "import ipywidgets as widgets\n",
    "from matplotlib_scalebar.scalebar import ScaleBar\n",
    "from numpy.fft import fftshift\n",
    "from math import sin, cos\n",
    "import time\n",
    "import cupy as cp\n",
    "import matplotlib.pyplot as plt\n",
    "from cupy.cuda import Device\n",
    "import cupyx.scipy.fft as fft\n",
    "from IPython.display import display\n",
    "from skimage.filters import gaussian\n",
    "from matplotlib.patches import Rectangle\n",
    "plt.ioff()\n",
    "\n",
    "out0 = widgets.Output(layout={'border': '1px solid black'})\n",
    "\n",
    "class InteractiveSSB:\n",
    "    def __init__(self, sparse_data, slice_image, radius, meta, window_size=128):\n",
    "        self.out = widgets.Output(layout={'border': '1px solid black'})\n",
    "        self.meta = meta\n",
    "        self.data = sparse_data\n",
    "        self.ssb_size = 32\n",
    "        self.slic = np.s_[0:sparse_data.scan_dimensions[0],0:sparse_data.scan_dimensions[1]]\n",
    "        self.rmax = sparse_data.frame_dimensions[-1] // 2\n",
    "        self.alpha_max = self.rmax / radius * meta.alpha_rad\n",
    "        self.slice_image = slice_image\n",
    "        self.window_center = sparse_data.scan_dimensions//2\n",
    "        self.window_size = sparse_data.scan_dimensions[0] \n",
    "\n",
    "        r_min = meta.wavelength / (2 * self.alpha_max)\n",
    "        r_min = np.array([r_min, r_min])\n",
    "        self.k_max = [self.alpha_max / meta.wavelength, self.alpha_max / meta.wavelength]\n",
    "        self.r_min = np.array(r_min)\n",
    "        self.dxy = np.array(meta.scan_step)\n",
    "        \n",
    "        self.margin = sparse_data.frame_dimensions // 2\n",
    "        self.rotation_deg = 0.0\n",
    "        \n",
    "        self.out.append_stdout(f\"alpha_max       = {self.alpha_max * 1e3:2.2f} mrad\\n\")\n",
    "        self.out.append_stdout(f\"E               = {meta.E_ev/1e3} keV\\n\")\n",
    "        self.out.append_stdout(f\"λ               = {meta.wavelength * 1e2:2.2}   pm\\n\")\n",
    "        self.out.append_stdout(f\"dR              = {self.dxy[0]:2.2f}             Å\\n\")\n",
    "        self.out.append_stdout(f\"dK              = {self.k_max[0]:2.2f}          Å^-1\\n\")\n",
    "        self.out.append_stdout(f\"scan       size = {sparse_data.scan_dimensions}\\n\")\n",
    "        self.out.append_stdout(f\"detector   size = {sparse_data.frame_dimensions}\\n\")\n",
    "        \n",
    "        self.rotation_slider = widgets.FloatSlider(\n",
    "            value=0,\n",
    "            min=-180,\n",
    "            max=180,\n",
    "            step=0.1,\n",
    "            description='STEM rotation angle:',\n",
    "            disabled=False,\n",
    "            continuous_update=False,\n",
    "            orientation='horizontal',\n",
    "            readout=True,\n",
    "            readout_format='.1f',\n",
    "        )\n",
    "        self.rotation_slider.observe(self.rotation_changed, 'value')\n",
    "        \n",
    "        self.window_size_slider = widgets.IntSlider(\n",
    "            value=sparse_data.scan_dimensions[0],\n",
    "            min=2,\n",
    "            max=np.max(sparse_data.scan_dimensions),\n",
    "            step=2,\n",
    "            description='Window size',\n",
    "            disabled=False,\n",
    "            continuous_update=False,\n",
    "            orientation='horizontal',\n",
    "            readout=True\n",
    "        )\n",
    "        self.window_size_slider.observe(self.window_size_slider_changes, 'value')\n",
    "        \n",
    "        self.aberration_text = widgets.HTML(\n",
    "                value=\"1\",\n",
    "                placeholder='',\n",
    "                description='',\n",
    "            )\n",
    "        \n",
    "        \n",
    "        self.gs = GridspecLayout(4,9)\n",
    "        self.Cslider_box = VBox(width=50)\n",
    "        self.scale_slider_box = VBox()\n",
    "        children= []\n",
    "        sliders =  []\n",
    "\n",
    "        self.probe_output = widgets.Output()\n",
    "        self.overlaps_output = widgets.Output()\n",
    "        \n",
    "        qn = fourier_coordinates_2D([128,128],r_min)\n",
    "        q = th.as_tensor(qn).cuda()\n",
    "        alpha = q * meta.wavelength\n",
    "        self.probe_gen = ZernikeProbeSingle(q, meta.wavelength, fft_shifted=False)\n",
    "        self.A = np.linalg.norm(qn,axis=0) * meta.wavelength < meta.alpha_rad\n",
    "        self.A = gaussian(self.A,1)\n",
    "                \n",
    "        self.C = cp.zeros((12,))\n",
    "        self.C_names = ['C1','C12a' ,'C12b','C21a','C21b','C23a','C23b','C3','C32a','C32b','C34a','C34b']\n",
    "        self.C_min = [-100,-20,-20,-50,-50,-50,-50,-20,-20,-20,-20,-20]\n",
    "        self.C_max = [100,20,20,50,50,50,50,20,20,20,20,20]\n",
    "        self.C_multiplier = [1e1,1e1,1e1,1e1,1e1,1e1,1e4,1e4,1e4,1e4,1e4]\n",
    "        \n",
    "        Psi = self.probe_gen(th.tensor(self.C.get()).cuda(),th.tensor(self.A).cuda())\n",
    "        self.phases = th.angle(th.fft.fftshift(self.probe_gen(th.tensor(self.C.get()).cuda(),th.tensor(np.ones_like(self.A)).cuda())))\n",
    "        self.Psi_shifted = th.fft.fftshift(Psi)\n",
    "        self.psi = th.fft.fftshift(th.fft.ifft2(Psi))\n",
    "        \n",
    "        with self.probe_output:\n",
    "            self.probe_figure = plt.figure(constrained_layout=True,figsize=(9,3))\n",
    "            gs1 = self.probe_figure.add_gridspec(1, 3, wspace=0.05,hspace=0.05)\n",
    "            self.f1ax0 = self.probe_figure.add_subplot(gs1[0])\n",
    "            self.f1ax1 = self.probe_figure.add_subplot(gs1[1])\n",
    "            self.f1ax2 = self.probe_figure.add_subplot(gs1[2])\n",
    "            \n",
    "            self.f1ax0.set_title('Probe  (real space)')\n",
    "            self.f1ax1.set_title('Probe  (Fourier space)')\n",
    "            self.f1ax2.set_title('Phase profile (Fourier space)')\n",
    "            \n",
    "            self.probe_realspace_imax = self.f1ax0.imshow(imsave(self.psi.cpu().numpy()))\n",
    "            self.probe_fourier_imax = self.f1ax1.imshow(imsave(self.Psi_shifted.cpu().numpy()))\n",
    "            self.probe_phases_imax = self.f1ax2.imshow(self.phases.cpu().numpy())\n",
    "            #,cmap=plt.cm.get_cmap('Greys')\n",
    "\n",
    "            self.f1ax0.set_xticks([])\n",
    "            self.f1ax0.set_yticks([])\n",
    "            self.f1ax1.set_xticks([])\n",
    "            self.f1ax1.set_yticks([])\n",
    "            self.f1ax2.set_xticks([])\n",
    "            self.f1ax2.set_yticks([])\n",
    "            \n",
    "        self.overlap_figure_axes = []\n",
    "        with self.overlaps_output:\n",
    "            self.overlap_figure = plt.figure(constrained_layout=True,figsize=(9,9))\n",
    "            gs1 = self.overlap_figure.add_gridspec(3, 3, wspace=0.05,hspace=0.05)\n",
    "            for ggs in gs1:\n",
    "                f3_ax1 = self.overlap_figure.add_subplot(ggs)\n",
    "                imax2 = f3_ax1.imshow(np.zeros((40,40)))\n",
    "                f3_ax1.set_xticks([])\n",
    "                f3_ax1.set_yticks([])\n",
    "                self.overlap_figure_axes.append(imax2)\n",
    "                \n",
    "        self.plot_box = VBox(children =[self.probe_figure.canvas,self.overlap_figure.canvas])    \n",
    "        self.recon_fig, self.recon_axes = plt.subplots(figsize=(9,9))\n",
    "        self.recon_img = self.recon_axes.imshow(np.zeros(sparse_data.scan_dimensions), cmap=plt.get_cmap('bone'))\n",
    "        self.recon_axes.set_xticks([])\n",
    "        self.recon_axes.set_yticks([])\n",
    "        scalebar = ScaleBar(meta.scan_step[0]/10,'nm') # 1 pixel = 0.2 meter\n",
    "        self.recon_axes.add_artist(scalebar)\n",
    "\n",
    "        for i, (name, mins, maxs, multiplier) in enumerate(zip(self.C_names, self.C_min, self.C_max, self.C_multiplier)):\n",
    "            s = FloatSlider(description=name,\n",
    "                           min=mins, max = maxs)\n",
    "            s.observe(self.create_function(f'slider_changed_{i}', i, multiplier), names='value')\n",
    "            sliders.append(s)\n",
    "            children.append(s)\n",
    "\n",
    "        self.Cslider_box.children = children + [self.aberration_text]\n",
    "\n",
    "        self.gs[:2,0] = self.Cslider_box\n",
    "        self.gs[2:,0] = self.scale_slider_box\n",
    "        self.gs[:,1:5] = self.plot_box\n",
    "        self.gs[:,5:9] = self.recon_fig.canvas\n",
    "        \n",
    "        self.first_time_calc = True\n",
    "    def __del__(self):\n",
    "        del self.recon_fig\n",
    "        del self.overlap_figure\n",
    "        del self.probe_figure\n",
    "        \n",
    "    def rotation_changed(self, change):\n",
    "        self.rotation_deg = change['new']\n",
    "        \n",
    "    @out0.capture()\n",
    "    def update_slice(self):\n",
    "        y0 = self.window_center[0] - self.window_size[0]//2\n",
    "        y1 = self.window_center[0] + self.window_size[0]//2\n",
    "        x0 = self.window_center[1] - self.window_size[1]//2\n",
    "        x1 = self.window_center[1] + self.window_size[1]//2\n",
    "        \n",
    "        y0 = int(y0 if y0 > 0 else 0)\n",
    "        y1 = int(y1 if y1 <= self.data.scan_dimensions[0] else self.data.scan_dimensions[0])\n",
    "        x0 = int(x0 if x0 > 0 else 0)\n",
    "        x1 = int(x1 if x1 <= self.data.scan_dimensions[1] else self.data.scan_dimensions[1])\n",
    "        \n",
    "        if y0 == 0:\n",
    "            y1 = (y1//2)*2\n",
    "            self.window_size[0] = y1-y0\n",
    "            \n",
    "        if x0 == 0:\n",
    "            x1 = (x1//2)*2\n",
    "            self.window_size[1] = x1-x0\n",
    "            \n",
    "        if y1 == self.data.scan_dimensions[0] and y0 % 2 > 0:\n",
    "            y0 -= 1\n",
    "            self.window_size[0] = self.window_size[0] + 1\n",
    "            \n",
    "        if x1 == self.data.scan_dimensions[0] and x0 % 2 > 0:\n",
    "            x0 -= 1\n",
    "            self.window_size[1] = self.window_size[1] + 1\n",
    "        \n",
    "#         y1 = y1 if y0 > 0 else (y1 // 2) * 2\n",
    "#         x1 = x1 if x0 > 0 else (x1 // 2) * 2\n",
    "        \n",
    "        self.slic = np.s_[y0:y1,x0:x1]\n",
    "        self.out.append_stdout(f\"slice {y0},{y1},{x0},{x1}\\n\")\n",
    "        \n",
    "        self.slice_rect.set_xy((x0,y0))\n",
    "        self.slice_rect.set_height(y1-y0)\n",
    "        self.slice_rect.set_width(x1-x0)\n",
    "        \n",
    "        self.G = self._get_G(self.ssb_size)\n",
    "        self.Gabs = cp.sum(cp.abs(self.G), (2, 3))\n",
    "        \n",
    "        sh = np.array(self.Gabs.shape)\n",
    "        mask = ~np.array(fftshift(sector_mask(sh, sh // 2, sh[0]/30, (0, 360))))\n",
    "        mask[:,-1] = 0\n",
    "        mask[:,0] = 0\n",
    "        mask[:,1] = 0\n",
    "        \n",
    "        gg = np.log10(self.Gabs.get()+1)\n",
    "        gg[~mask] = gg.mean()\n",
    "        gg = fftshift(gg)\n",
    "        gg1 = gg#[self.margin[0]:-self.margin[0],self.margin[1]:-self.margin[1]]\n",
    "        self.imax_power_spectrum.set_data(gg1)\n",
    "        self.imax_power_spectrum.set_clim(gg1.min(),gg1.max())\n",
    "        \n",
    "        self.fig_select_slice.canvas.draw()\n",
    "        self.fig_select_slice.canvas.flush_events()\n",
    "        self.fig_power_spectrum.canvas.draw()\n",
    "        self.fig_power_spectrum.canvas.flush_events()\n",
    "    \n",
    "    @out0.capture()\n",
    "    def window_size_slider_changes(self, change):\n",
    "        self.window_size = [change['new'],change['new']]\n",
    "        self.update_slice()\n",
    "            \n",
    "    @out0.capture()\n",
    "    def fig_select_slice_onclick(self, event):\n",
    "        ix, iy = event.xdata, event.ydata\n",
    "#         self.out.append_stdout(f\"clicked ix:{ix},iy:{iy}\\n\")\n",
    "        self.window_center = [iy, ix]\n",
    "        self.update_slice()\n",
    "        \n",
    "    @out0.capture()\n",
    "    def _get_G(self, size):\n",
    "        bin_factor = int(np.min(np.floor(self.data.frame_dimensions/size)))\n",
    "        start = time.perf_counter()\n",
    "        dc = self.dc[self.slic]\n",
    "        \n",
    "        M = cp.array(dc, dtype=cp.complex64)\n",
    "        ny, nx, nky, nkx = M.shape\n",
    "        start = time.perf_counter()\n",
    "        G = fft.fft2(M, axes=(0, 1), overwrite_x=True)\n",
    "        G /= cp.sqrt(np.prod(G.shape[:2]))\n",
    "        \n",
    "        return G\n",
    "    \n",
    "    @out0.capture()\n",
    "    def _get_G_full(self, size):\n",
    "        bin_factor = int(np.min(np.floor(self.data.frame_dimensions/size)))\n",
    "        start = time.perf_counter()\n",
    "        data = self.data.slice(self.slic)\n",
    "        self.dc = data.to_dense(bin_factor)\n",
    "        self.out.append_stdout(f\"Bin by {bin_factor} for ssb took {time.perf_counter() - start:2.2g}s\\n\")\n",
    "        self.out.append_stdout(f\"Data shape is {self.dc.shape}\\n\")\n",
    "        \n",
    "        self.Qy1d, self.Qx1d = get_qx_qy_1D(data.scan_dimensions, self.dxy, cp.float32, fft_shifted=False)\n",
    "        self.Ky, self.Kx = get_qx_qy_1D(self.dc.shape[-2:], self.r_min, cp.float32, fft_shifted=True)\n",
    "        \n",
    "        self.Psi_Qp = cp.zeros(data.scan_dimensions, dtype=np.complex64)\n",
    "        self.Psi_Qp_left_sb = cp.zeros(data.scan_dimensions, dtype=np.complex64)\n",
    "        self.Psi_Qp_right_sb = cp.zeros(data.scan_dimensions, dtype=np.complex64)\n",
    "        self.Psi_Rp = cp.zeros(data.scan_dimensions, dtype=np.complex64)\n",
    "        self.Psi_Rp_left_sb = cp.zeros(data.scan_dimensions, dtype=np.complex64)\n",
    "        self.Psi_Rp_right_sb = cp.zeros(data.scan_dimensions, dtype=np.complex64)\n",
    "        \n",
    "        M = cp.array(self.dc, dtype=cp.complex64)\n",
    "        ny, nx, nky, nkx = M.shape\n",
    "        start = time.perf_counter()\n",
    "        G = fft.fft2(M, axes=(0, 1), overwrite_x=True)\n",
    "        G /= cp.sqrt(np.prod(G.shape[:2]))\n",
    "        \n",
    "        self.out.append_stdout(f\"FFT along scan coordinate took {time.perf_counter() - start:2.2g}s\\n\")\n",
    "        return G\n",
    "    \n",
    "    @out0.capture()\n",
    "    def update_variables(self):\n",
    "        self.Psi_Qp[:] = 0\n",
    "        self.Psi_Qp_left_sb[:] = 0\n",
    "        self.Psi_Qp_right_sb[:] = 0\n",
    "            \n",
    "        eps=1e-3\n",
    "        start = time.perf_counter()\n",
    "        single_sideband_reconstruction(\n",
    "                self.G,\n",
    "                self.Qx1d,\n",
    "                self.Qy1d,\n",
    "                self.Kx,\n",
    "                self.Ky,\n",
    "                self.C,\n",
    "                np.deg2rad(self.rotation_deg),\n",
    "                self.meta.alpha_rad,\n",
    "                self.Psi_Qp,\n",
    "                self.Psi_Qp_left_sb,\n",
    "                self.Psi_Qp_right_sb,\n",
    "                eps,\n",
    "                self.meta.wavelength,\n",
    "            )\n",
    "        m = 2\n",
    "\n",
    "        self.Psi_Rp[:] = fft.ifft2(self.Psi_Qp, norm=\"ortho\")\n",
    "        self.Psi_Rp_left_sb[:] = fft.ifft2(self.Psi_Qp_left_sb, norm=\"ortho\")\n",
    "        self.Psi_Rp_right_sb[:] = fft.ifft2(self.Psi_Qp_right_sb, norm=\"ortho\")\n",
    "        \n",
    "        self.Gamma = disk_overlap_function(self.Qx_max1d, self.Qy_max1d, self.Kx, self.Ky, self.C, np.deg2rad(self.rotation_deg), self.meta.alpha_rad, self.meta.wavelength)\n",
    "        \n",
    "        Psi = self.probe_gen(th.tensor(self.C.get()).cuda(),th.tensor(self.A).cuda())\n",
    "        self.phases = th.angle(th.fft.fftshift(self.probe_gen(th.tensor(self.C.get()).cuda(),th.tensor(self.A).cuda())))\n",
    "        self.Psi_shifted = th.fft.fftshift(Psi)\n",
    "        self.psi = th.fft.fftshift(th.fft.ifft2(Psi))\n",
    "            \n",
    "    @out0.capture()\n",
    "    def update_gui(self):\n",
    "        gg = self.Gamma * self.G_max\n",
    "\n",
    "        m=10\n",
    "        img = np.angle(self.Psi_Rp_left_sb.get()[m:-m,m:-m])\n",
    "        self.recon_img.set_data(img)\n",
    "        self.recon_img.set_clim(img.min(),img.max())\n",
    "\n",
    "        for ax, g in zip(self.overlap_figure_axes,gg):\n",
    "            ax.set_data(imsave(g.get()))\n",
    "        \n",
    "        self.probe_realspace_imax.set_data(imsave(self.psi.cpu().numpy()))\n",
    "        self.probe_fourier_imax.set_data(imsave(self.Psi_shifted.cpu().numpy()))\n",
    "        self.probe_phases_imax.set_data(self.phases.cpu().numpy())\n",
    "        self.probe_phases_imax.set_clim(self.phases.min(),self.phases.max())\n",
    "        \n",
    "        self.recon_fig.canvas.draw()\n",
    "        self.overlap_figure.canvas.draw()\n",
    "        self.probe_figure.canvas.draw()\n",
    "        \n",
    "        self.recon_fig.canvas.flush_events()\n",
    "        self.overlap_figure.canvas.flush_events()\n",
    "        self.probe_figure.canvas.flush_events()\n",
    "    \n",
    "    @out0.capture()\n",
    "    def create_function(self, name, i, multiplier):\n",
    "        def func1(change):\n",
    "            self.C[i] = change['new']*multiplier\n",
    "            w = change['new']*multiplier\n",
    "#             self.out.append_stdout(f\"C[{i}] = {self.C[i]}\\n\")\n",
    "            \n",
    "            self.update_variables()\n",
    "            self.update_gui()\n",
    "            \n",
    "        func1.__name__ = name\n",
    "        return func1\n",
    "    \n",
    "    \n",
    "    @out0.capture()\n",
    "    def selected_index_changed(self, change):\n",
    "        w = change['new']\n",
    "        if w == 1:\n",
    "#             if self.first_time_calc:\n",
    "            n_fit = 9\n",
    "            self.G = self._get_G_full(self.ssb_size)\n",
    "            self.Gabs = cp.sum(cp.abs(self.G), (2, 3))\n",
    "            self.out.append_stdout(f\"self.G.shape {self.G.shape}\\n\")\n",
    "\n",
    "            sh = np.array(self.Gabs.shape)\n",
    "            mask = ~np.array(fftshift(sector_mask(sh, sh // 2, 15, (0, 360))))\n",
    "            mask[:,-1] = 0\n",
    "            mask[:,0] = 0\n",
    "            mask[:,1] = 0\n",
    "\n",
    "            gg = self.Gabs.get()\n",
    "            gg[~mask] = gg.mean()\n",
    "\n",
    "            inds = np.argsort((gg).ravel())\n",
    "            strongest_object_frequencies = np.unravel_index(inds[-1 - n_fit:-1], self.G.shape[:2])\n",
    "\n",
    "            self.out.append_stdout(f\"strongest_object_frequencies: {strongest_object_frequencies}\\n\")\n",
    "\n",
    "            self.G_max = self.G[strongest_object_frequencies]\n",
    "            self.Qy_max1d = self.Qy1d[strongest_object_frequencies[0]]\n",
    "            self.Qx_max1d = self.Qx1d[strongest_object_frequencies[1]]\n",
    "                \n",
    "            self.update_variables()\n",
    "            self.update_gui()\n",
    "            \n",
    "        elif w==2:\n",
    "            data = dssb \n",
    "            bright_field_radius = radius\n",
    "\n",
    "            meta = metadata\n",
    "\n",
    "            defocus_list_nm = np.linspace(-300,300,60,endpoint=True)  + 0\n",
    "            print(f'defocus_list_nm: {defocus_list_nm}')\n",
    "            defocal = []\n",
    "            defocal_right = []\n",
    "            defocal_left = []\n",
    "\n",
    "            for df in defocus_list_nm:\n",
    "                print(df)\n",
    "                C = xp.zeros((12,))\n",
    "                C[0] = df\n",
    "                Psi_Qp = cp.zeros((ny, nx), dtype=G.dtype)\n",
    "                Psi_Qp_left_sb = cp.zeros((ny, nx), dtype=np.complex64)\n",
    "                Psi_Qp_right_sb = cp.zeros((ny, nx), dtype=np.complex64)\n",
    "                start = time.perf_counter()\n",
    "                eps = 1e-3\n",
    "                single_sideband_reconstruction(\n",
    "                        self.G,\n",
    "                        self.Qx1d,\n",
    "                        self.Qy1d,\n",
    "                        self.Kx,\n",
    "                        self.Ky,\n",
    "                        self.C,\n",
    "                        np.deg2rad(self.rotation_deg),\n",
    "                        self.meta.alpha_rad,\n",
    "                        self.Psi_Qp,\n",
    "                        self.Psi_Qp_left_sb,\n",
    "                        self.Psi_Qp_right_sb,\n",
    "                        eps,\n",
    "                        self.meta.wavelength,\n",
    "                    )\n",
    "                self.Psi_Rp[:] = fft.ifft2(self.Psi_Qp, norm=\"ortho\")\n",
    "                self.Psi_Rp_left_sb[:] = fft.ifft2(self.Psi_Qp_left_sb, norm=\"ortho\")\n",
    "                self.Psi_Rp_right_sb[:] = fft.ifft2(self.Psi_Qp_right_sb, norm=\"ortho\")\n",
    "\n",
    "                defocal.append(Psi_Rp.get())\n",
    "                defocal_right.append(Psi_Rp_right_sb.get())\n",
    "                defocal_left.append(Psi_Rp_left_sb.get())\n",
    "\n",
    "            ssb_defocal = np.array(defocal)\n",
    "            ssb_defocal_right = np.array(defocal_right)\n",
    "            ssb_defocal_left = np.array(defocal_left)\n",
    "            \n",
    "#             fig, ax = plt.subplots(dpi=150)\n",
    "\n",
    "#             var1 = np.var(ssb_defocal[...,m:-m,m:-m],(1,2))\n",
    "#             var2 = np.var(ssb_defocal_right[...,m:-m,m:-m],(1,2))\n",
    "\n",
    "#             for i, v in enumerate([var1,var2,var3]):\n",
    "#                 ax.scatter(np.arange(len(v)), v, label=f'{i}', s=3)\n",
    "#                 ax.plot(v, label=f'{i}')\n",
    "#             plt.legend()\n",
    "            \n",
    "#             mxs = np.argmax(var1)\n",
    "#             best_df = defocus_list_nm[mxs]\n",
    "#             mxs2 = np.argmax(var2)\n",
    "#             best_df2 = defocus_list_nm[mxs2]\n",
    "            \n",
    "            self.out.append_stdout(f'best_df ssb_defocal: {mxs}:{best_df}\\n')\n",
    "            self.out.append_stdout(f'best_df ssb_defocal_right: {mxs2}:{best_df2}\\n')\n",
    "    \n",
    "    def show(self):\n",
    "        n_fit = 49\n",
    "        ranges=[360, 30]\n",
    "        partitions = [144, 120]\n",
    "        ranges = [360]\n",
    "        partitions=[360]\n",
    "        manual_frequencies=None\n",
    "        manual_frequencies = None\n",
    "        \n",
    "        bin_factor = int(np.min(np.floor(self.data.frame_dimensions/12)))\n",
    "        data = self.data.slice(self.slic)\n",
    "        self.dc = data.to_dense(bin_factor)\n",
    "        \n",
    "        M = cp.array(self.dc, dtype=cp.complex64)\n",
    "        ny, nx, nky, nkx = M.shape\n",
    "        self.G = fft.fft2(M, axes=(0, 1), overwrite_x=True)\n",
    "        self.G /= cp.sqrt(np.prod(self.G.shape[:2]))\n",
    "        self.Gabs = cp.sum(cp.abs(self.G), (2, 3))\n",
    "        \n",
    "        sh = np.array(self.Gabs.shape)\n",
    "        mask = ~np.array(fftshift(sector_mask(sh, sh // 2, 15, (0, 360))))\n",
    "        mask[:,-1] = 0\n",
    "        mask[:,0] = 0\n",
    "        mask[:,1] = 0\n",
    "        \n",
    "        gg = np.log10(self.Gabs.get()+1)\n",
    "        gg[~mask] = gg.mean()\n",
    "        gg = fftshift(gg)\n",
    "        gg1 = gg[self.margin[0]:-self.margin[0],self.margin[1]:-self.margin[1]]\n",
    "        \n",
    "        self.fig_select_slice, self.ax_select_slice = plt.subplots(1,1,figsize=(8,8))\n",
    "        self.fig_select_slice.canvas.mpl_connect('button_press_event', self.fig_select_slice_onclick)\n",
    "        self.imax_select_slice = self.ax_select_slice.imshow(self.slice_image, cmap=plt.cm.get_cmap('magma'))\n",
    "        self.slice_rect = Rectangle((self.slic[0].start,self.slic[1].start), self.window_size, self.window_size, fill=False, lw=3,ls='--')\n",
    "        self.ax_select_slice.add_patch(self.slice_rect)        \n",
    "        \n",
    "        self.fig_power_spectrum, self.ax_power_spectrum = plt.subplots(1,1,figsize=(8,8))\n",
    "        self.imax_power_spectrum = self.ax_power_spectrum.imshow(gg1, cmap=plt.cm.get_cmap('magma'))\n",
    "        \n",
    "\n",
    "        best, thetas, intensities = find_rotation_angle_with_double_disk_overlap(self.G, self.meta.wavelength, self.r_min, self.dxy, self.meta.alpha_rad, mask=cp.array(mask), ranges=ranges,\n",
    "                                                                  partitions=partitions, n_fit=n_fit, verbose=False,\n",
    "                                                                  manual_frequencies=manual_frequencies, aberrations=self.C)\n",
    "\n",
    "        self.out.append_stdout(f\"Best rotation angle: {np.rad2deg(thetas[best])}\\n\")\n",
    "        \n",
    "        fig, ax = plt.subplots()\n",
    "        ax.scatter(np.rad2deg(thetas),intensities)\n",
    "        ax.set_xlabel('STEM rotation [degrees]')\n",
    "        ax.set_ylabel('Integrated G amplitude over double overlap')\n",
    "                      \n",
    "        rot_box = VBox([fig.canvas,self.rotation_slider])\n",
    "        \n",
    "        window_size_box = VBox([self.window_size_slider, self.fig_select_slice.canvas])\n",
    "        \n",
    "        canvas_box = HBox([window_size_box, self.fig_power_spectrum.canvas,  rot_box])\n",
    "        gsl1 = VBox([canvas_box])\n",
    "        gsl2 = GridspecLayout(1,1)\n",
    "        \n",
    "        tab_contents = ['P0', 'P1','P2']\n",
    "        children = [gsl1,self.gs]\n",
    "        tab = widgets.Tab()\n",
    "        tab.children = children\n",
    "        tab.titles = ['fft','00','00']\n",
    "        \n",
    "        tab.observe(self.selected_index_changed, 'selected_index')\n",
    "        \n",
    "        gsl00 = GridspecLayout(20,20)\n",
    "        gsl00[3:,:3] = self.out\n",
    "        gsl00[3:,3:] = tab\n",
    "        gsl00[:3,:] = out0\n",
    "        return gsl00\n",
    "\n",
    "t = InteractiveSSB(dssb, bf,radius, metadata)\n",
    "t.show()"
   ]
  },
  {
   "cell_type": "code",
   "execution_count": 10,
   "metadata": {},
   "outputs": [
    {
     "name": "stdout",
     "output_type": "stream",
     "text": [
      "25.711053816447702 0.9942183797899262\n",
      "radius: 120\n",
      "\n",
      "=== For iterative reconstruction: \n",
      "target BF radius    : 39\n",
      "bin_factor          : 4\n",
      "radius_max_int_big after bin: 60.0\n",
      "frame_size after bin: 120\n",
      "rotation (degrees)  : 0\n",
      "dxy                 : 0.5219646493897113\n",
      "k_max               : [0.9579192778373159, 0.9579192778373159]\n",
      "pixel_step          : [0.42558018 0.42558018]\n"
     ]
    },
    {
     "data": {
      "application/vnd.jupyter.widget-view+json": {
       "model_id": "2bfb2a4b5c6449d092b2e40eb11c7ab2",
       "version_major": 2,
       "version_minor": 0
      },
      "text/plain": [
       "AppLayout(children=(Canvas(layout=Layout(grid_area='center'), toolbar=Toolbar(toolitems=[('Home', 'Reset origi…"
      ]
     },
     "metadata": {},
     "output_type": "display_data"
    }
   ],
   "source": [
    "probe_radius_multiplier = 2\n",
    "\n",
    "s= t.psi.cpu().numpy()\n",
    "\n",
    "abss = np.abs(s)\n",
    "w = abss > abss.max() * 1e-2\n",
    "t.r_min.max()\n",
    "probe_radius = np.sqrt(w.sum()*1.0/np.pi) * t.r_min.max()\n",
    "sampled_radius = int(1.5 * np.ceil(probe_radius))\n",
    "print(probe_radius,t.r_min.max())\n",
    "\n",
    "smatrix_bf_radius_big = sampled_radius\n",
    "\n",
    "radius_factor_big = 2\n",
    "\n",
    "bin_factor_big = int(np.min(np.ceil(radius/smatrix_bf_radius_big)))\n",
    "\n",
    "radius_data_int_big = int(np.ceil(radius / bin_factor_big) * bin_factor_big)\n",
    "radius_max_int_big = int(np.ceil(radius_factor_big * radius / bin_factor_big) * bin_factor_big)\n",
    "frame_size_big = 2 * radius_max_int_big // bin_factor_big\n",
    "\n",
    "alpha_max_big = radius_factor_big * metadata.alpha_rad\n",
    "\n",
    "dx1_big = metadata.wavelength / 2 / alpha_max_big\n",
    "dxy_big = [dx1_big,dx1_big]\n",
    "\n",
    "k_max1_big = alpha_max_big / metadata.wavelength\n",
    "k_max_big = [k_max1_big, k_max1_big]\n",
    "\n",
    "pixel_step_y = metadata.scan_step[0]/dxy_big[0]\n",
    "pixel_step_x = metadata.scan_step[1]/dxy_big[1]\n",
    "pixel_step = np.array([pixel_step_y,pixel_step_x])\n",
    "\n",
    "print(f'radius: {radius}')\n",
    "print()\n",
    "print('=== For iterative reconstruction: ')\n",
    "print(f'target BF radius    : {smatrix_bf_radius_big}')\n",
    "print(f'bin_factor          : {bin_factor_big}')\n",
    "print(f'radius_max_int_big after bin: {radius_max_int_big/bin_factor_big}')\n",
    "print(f'frame_size after bin: {frame_size_big}')\n",
    "print(f'rotation (degrees)  : {metadata.rotation_deg}')\n",
    "print(f'dxy                 : {dx1_big}')\n",
    "print(f'k_max               : {k_max_big}')\n",
    "print(f'pixel_step          : {pixel_step}')\n",
    "\n",
    "\n",
    "fig, ax = plt.subplots()\n",
    "ax.imshow(w)\n",
    "AppLayout(center=fig.canvas)"
   ]
  },
  {
   "cell_type": "code",
   "execution_count": 11,
   "metadata": {},
   "outputs": [
    {
     "data": {
      "text/plain": [
       "array([377.,   0.,   0.,   0.,   0.,   0.,   0.,   0.,   0.,   0.,   0.,\n",
       "         0.])"
      ]
     },
     "execution_count": 11,
     "metadata": {},
     "output_type": "execute_result"
    }
   ],
   "source": [
    "t.C\n"
   ]
  },
  {
   "cell_type": "code",
   "execution_count": 12,
   "metadata": {},
   "outputs": [
    {
     "name": "stdout",
     "output_type": "stream",
     "text": [
      "old frames shape: (512, 512, 1146)\n",
      "new frames shape: (512, 512, 1146)\n",
      "old frames frame_dimensions: [334 334]\n",
      "new frames frame_dimensions: [480 480]\n"
     ]
    }
   ],
   "source": [
    "dbig = da[0].crop_symmetric_center(da[0].frame_dimensions/2,  radius*radius_factor_big)"
   ]
  },
  {
   "cell_type": "code",
   "execution_count": 12,
   "metadata": {},
   "outputs": [
    {
     "data": {
      "text/plain": [
       "Sparse4DData(scan_dimensions=array([512, 512]), frame_dimensions=array([480, 480]))"
      ]
     },
     "execution_count": 12,
     "metadata": {},
     "output_type": "execute_result"
    }
   ],
   "source": [
    "dbig"
   ]
  },
  {
   "cell_type": "code",
   "execution_count": 20,
   "metadata": {},
   "outputs": [
    {
     "name": "stdout",
     "output_type": "stream",
     "text": [
      "radius_data_int : 240 \n",
      "radius_max_int  : 240 \n",
      "Dense frame size: 120x 120\n",
      "sparse_to_dense_datacube_crop_gain_mask dtypes: torch.float32 torch.int32 torch.float32 int64\n"
     ]
    },
    {
     "data": {
      "application/vnd.jupyter.widget-view+json": {
       "model_id": "1b868ccb6e614fee817b72dff4ae6e22",
       "version_major": 2,
       "version_minor": 0
      },
      "text/plain": [
       "AppLayout(children=(Canvas(layout=Layout(grid_area='center'), toolbar=Toolbar(toolitems=[('Home', 'Reset origi…"
      ]
     },
     "metadata": {},
     "output_type": "display_data"
    }
   ],
   "source": [
    "ddense = dbig.to_dense(bin_factor_big)\n",
    "\n",
    "slic_edge = np.s_[:,-5:,:,:]\n",
    "sds = np.sum(ddense[slic_edge],(0,1)) / np.prod(dssb.scan_dimensions)\n",
    "vacuum_probe = sds * (sds > sds.max() * 20e-2) \n",
    "\n",
    "fig,ax = plt.subplots()\n",
    "ax.imshow(vacuum_probe)\n",
    "AppLayout(center=fig.canvas)"
   ]
  },
  {
   "cell_type": "code",
   "execution_count": 21,
   "metadata": {},
   "outputs": [
    {
     "name": "stdout",
     "output_type": "stream",
     "text": [
      "radius_data_int : 240 \n",
      "radius_max_int  : 240 \n",
      "Dense frame size: 120x 120\n",
      "sparse_to_dense_datacube_crop_gain_mask dtypes: torch.float32 torch.int32 torch.float32 int64\n",
      "frame_dimensions: [120 120]\n",
      "scan_dimensions : [512 512]\n",
      "Using dtype: torch.int16 for indices\n",
      "Using dtype: torch.uint8 for counts\n"
     ]
    },
    {
     "data": {
      "application/vnd.jupyter.widget-view+json": {
       "model_id": "148093b683084717886b3fedd0c72eef",
       "version_major": 2,
       "version_minor": 0
      },
      "text/plain": [
       "AppLayout(children=(Canvas(layout=Layout(grid_area='center'), toolbar=Toolbar(toolitems=[('Home', 'Reset origi…"
      ]
     },
     "metadata": {},
     "output_type": "display_data"
    }
   ],
   "source": [
    "max_radius = int(radius_max_int_big/bin_factor_big)\n",
    "dbig_shifted = dbig.bin(bin_factor_big)\n",
    "dbig_shifted = dbig_shifted.fftshift_and_pad_to_((2 * max_radius, 2 * max_radius))\n",
    "\n",
    "s = dbig_shifted.sum_diffraction()\n",
    "fig,ax = plt.subplots()\n",
    "ax.imshow(s)\n",
    "AppLayout(center=fig.canvas)"
   ]
  },
  {
   "cell_type": "code",
   "execution_count": 27,
   "metadata": {},
   "outputs": [
    {
     "data": {
      "text/plain": [
       "Metadata4D(scan_step=array([0.22213781, 0.22213781], dtype=float32), pixel_step=array([0.42558018, 0.42558018]), k_max=[0.9579192778373159, 0.9579192778373159], alpha_rad=0.02, rotation_deg=0.0, E_ev=80000.0, wavelength=0.041757171951176904, aberrations=array([377.,   0.,   0.,   0.,   0.,   0.,   0.,   0.,   0.,   0.,   0.,\n",
       "         0.]))"
      ]
     },
     "execution_count": 27,
     "metadata": {},
     "output_type": "execute_result"
    }
   ],
   "source": [
    "metadata.pixel_step = pixel_step\n",
    "metadata.rotation_deg = t.rotation_deg\n",
    "metadata.aberrations = t.C.get()\n",
    "metadata.k_max = k_max_big\n",
    "\n",
    "metadata.to_h5(results_path / 'ptycho' / f'{scan_number:3d}_dense.h5','meta')\n",
    "# dbig_shifted.to_h5(results_path / 'ptycho' / f'{scan_number:3d}_dense.h5','data')\n",
    "metadata"
   ]
  },
  {
   "cell_type": "code",
   "execution_count": 28,
   "metadata": {},
   "outputs": [
    {
     "data": {
      "text/plain": [
       "(slice(207, 457, None), slice(146, 396, None))"
      ]
     },
     "execution_count": 28,
     "metadata": {},
     "output_type": "execute_result"
    }
   ],
   "source": [
    "t.slic"
   ]
  },
  {
   "cell_type": "code",
   "execution_count": 29,
   "metadata": {},
   "outputs": [],
   "source": [
    "h5append(results_path / 'ptycho' / f'{scan_number:3d}_dense.h5',{'dense2':ddense[t.slic]})"
   ]
  },
  {
   "cell_type": "code",
   "execution_count": 30,
   "metadata": {},
   "outputs": [
    {
     "data": {
      "text/plain": [
       "array([0.22213781, 0.22213781], dtype=float32)"
      ]
     },
     "execution_count": 30,
     "metadata": {},
     "output_type": "execute_result"
    }
   ],
   "source": [
    "metadata.scan_step"
   ]
  },
  {
   "cell_type": "code",
   "execution_count": 31,
   "metadata": {},
   "outputs": [],
   "source": [
    "h5append(results_path / 'ptycho' / f'{scan_number:3d}_dense.h5',{'vacuum':s})"
   ]
  },
  {
   "cell_type": "code",
   "execution_count": 32,
   "metadata": {},
   "outputs": [
    {
     "data": {
      "application/vnd.jupyter.widget-view+json": {
       "model_id": "c934e1f9dc4745eb995babf08bed5bbd",
       "version_major": 2,
       "version_minor": 0
      },
      "text/plain": [
       "AppLayout(children=(Canvas(layout=Layout(grid_area='center'), toolbar=Toolbar(toolitems=[('Home', 'Reset origi…"
      ]
     },
     "metadata": {},
     "output_type": "display_data"
    }
   ],
   "source": [
    "fig,ax = plt.subplots()\n",
    "ax.imshow(ddense[0,0])\n",
    "AppLayout(center=fig.canvas)"
   ]
  },
  {
   "cell_type": "code",
   "execution_count": null,
   "metadata": {},
   "outputs": [],
   "source": []
  }
 ],
 "metadata": {
  "kernelspec": {
   "display_name": "Python 3",
   "language": "python",
   "name": "python3"
  },
  "language_info": {
   "codemirror_mode": {
    "name": "ipython",
    "version": 3
   },
   "file_extension": ".py",
   "mimetype": "text/x-python",
   "name": "python",
   "nbconvert_exporter": "python",
   "pygments_lexer": "ipython3",
   "version": "3.8.8"
  },
  "pycharm": {
   "stem_cell": {
    "cell_type": "raw",
    "metadata": {
     "collapsed": false
    },
    "source": []
   }
  }
 },
 "nbformat": 4,
 "nbformat_minor": 4
}
