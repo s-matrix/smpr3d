{
 "cells": [
  {
   "cell_type": "code",
   "execution_count": 1,
   "id": "south-outside",
   "metadata": {},
   "outputs": [],
   "source": [
    "%matplotlib widget\n",
    "import matplotlib.pyplot as plt \n",
    "from smpr3d.core import Sparse4DData, Metadata4D\n",
    "from pathlib import Path\n",
    "from smpr3d.util import advanced_raster_scan\n",
    "from ipywidgets import AppLayout, FloatSlider, GridspecLayout, VBox, Tab, Box, HBox, IntSlider\n",
    "plt.ioff()"
   ]
  },
  {
   "cell_type": "code",
   "execution_count": 2,
   "id": "weighted-reasoning",
   "metadata": {},
   "outputs": [],
   "source": [
    "# from smpr3d.core import ReconstructionOptions, reconstruct\n",
    "\n",
    "# metadata2 = Metadata4D(E_ev = E_ev, \n",
    "#                        alpha_rad = metadata.alpha_rad, \n",
    "#                        dr=metadata.dr,\n",
    "#                        k_max = k_max,\n",
    "#                        rotation_deg = t.rotation_deg)\n",
    "\n",
    "# options = ReconstructionOptions()\n",
    "\n",
    "# out = sm.reconstruct(data, metadata, options)\n",
    "\n",
    "# S = out.smatrix\n",
    "# r = out.r\n",
    "# Psi = out.Psi\n",
    "# R_factor = out.R_factors"
   ]
  },
  {
   "cell_type": "code",
   "execution_count": 3,
   "id": "valuable-linux",
   "metadata": {},
   "outputs": [],
   "source": [
    "scan_number = 147\n",
    "base_path = Path('/home/philipp/nvme/insync_berkeley/2020-09-22/')\n",
    "results_path = base_path / 'results/'\n",
    "fp = results_path / 'ptycho' / f'{scan_number:3d}_dense.h5'\n",
    "\n",
    "meta = Metadata4D.from_h5(fp,'meta')\n",
    "data= Sparse4DData.from_h5(fp,'data')\n"
   ]
  },
  {
   "cell_type": "code",
   "execution_count": 4,
   "id": "tropical-cemetery",
   "metadata": {},
   "outputs": [
    {
     "data": {
      "text/plain": [
       "Metadata4D(scan_step=array([0.31626087, 0.31626087], dtype=float32), pixel_step=array([1.02852336, 1.02852336]), k_max=array([1.62606797, 1.62606797]), alpha_rad=0.025, rotation_deg=0.0, E_ev=80000.0, wavelength=0.041757171951176904, aberrations=array([0., 0., 0., 0., 0., 0., 0., 0., 0., 0., 0., 0.]))"
      ]
     },
     "execution_count": 4,
     "metadata": {},
     "output_type": "execute_result"
    }
   ],
   "source": [
    "meta"
   ]
  },
  {
   "cell_type": "code",
   "execution_count": 5,
   "id": "diagnostic-sympathy",
   "metadata": {},
   "outputs": [
    {
     "data": {
      "text/plain": [
       "Sparse4DData(scan_dimensions=array([512, 512]), frame_dimensions=array([48, 48]))"
      ]
     },
     "execution_count": 5,
     "metadata": {},
     "output_type": "execute_result"
    }
   ],
   "source": [
    "data"
   ]
  },
  {
   "cell_type": "code",
   "execution_count": 6,
   "id": "clean-manchester",
   "metadata": {},
   "outputs": [
    {
     "name": "stdout",
     "output_type": "stream",
     "text": [
      "radius_data_int : 24 \n",
      "radius_max_int  : 24 \n",
      "Dense frame size: 48x 48\n",
      "sparse_to_dense_datacube_crop_gain_mask dtypes: torch.float32 torch.int16 torch.float32 int64\n"
     ]
    },
    {
     "data": {
      "application/vnd.jupyter.widget-view+json": {
       "model_id": "b261a1811e3b4d78a4accc40561a416d",
       "version_major": 2,
       "version_minor": 0
      },
      "text/plain": [
       "AppLayout(children=(Canvas(layout=Layout(grid_area='center'), toolbar=Toolbar(toolitems=[('Home', 'Reset origi…"
      ]
     },
     "metadata": {},
     "output_type": "display_data"
    }
   ],
   "source": [
    "ddense = Sparse4DData.fftshift(data).to_dense(1)\n",
    "\n",
    "slic_edge = np.s_[:,-50:,:,:]\n",
    "sds = np.sum(ddense[slic_edge],(0,1)) / np.prod(data.scan_dimensions)\n",
    "vacuum_probe = sds * (sds > sds.max() * 20e-2) \n",
    "\n",
    "fig,ax = plt.subplots()\n",
    "ax.imshow(vacuum_probe)\n",
    "AppLayout(center=fig.canvas)"
   ]
  },
  {
   "cell_type": "code",
   "execution_count": 7,
   "id": "charitable-presence",
   "metadata": {},
   "outputs": [
    {
     "data": {
      "application/vnd.jupyter.widget-view+json": {
       "model_id": "f4cc59da780340a4853f43f6153ca424",
       "version_major": 2,
       "version_minor": 0
      },
      "text/plain": [
       "AppLayout(children=(Canvas(layout=Layout(grid_area='center'), toolbar=Toolbar(toolitems=[('Home', 'Reset origi…"
      ]
     },
     "metadata": {},
     "output_type": "display_data"
    }
   ],
   "source": [
    "from smpr3d.util import ZernikeProbeSingle\n",
    "from smpr3d.util import *\n",
    "\n",
    "dx = 1/2/meta.k_max\n",
    "\n",
    "qnp = fourier_coordinates_2D(data.frame_dimensions, dx, centered=False)\n",
    "q = th.as_tensor(qnp)\n",
    "Psi_gen = ZernikeProbeSingle(q, meta.wavelength, fft_shifted=True)\n",
    "Ap0 = th.as_tensor(fftshift(vacuum_probe))\n",
    "C1 = th.as_tensor(meta.aberrations)\n",
    "Psi_model = Psi_gen(C1, Ap0).detach()\n",
    "Psi = Psi_model\n",
    "psi = th.fft.ifft2(Psi_model,norm='ortho')\n",
    "fig, ax = plt.subplots(1,2,figsize=(10,5))\n",
    "ax[0].imshow(np.angle(psi))\n",
    "ax[1].imshow(np.abs(psi))\n",
    "\n",
    "# d['probe_real'] = psi.real\n",
    "# d['probe_imag'] = psi.imag\n",
    "\n",
    "AppLayout(center=fig.canvas)"
   ]
  },
  {
   "cell_type": "code",
   "execution_count": 8,
   "id": "optical-employee",
   "metadata": {},
   "outputs": [
    {
     "data": {
      "text/plain": [
       "tensor([[[ 0.0000,  0.0000,  0.0000,  ...,  0.0000,  0.0000,  0.0000],\n",
       "         [ 0.0678,  0.0678,  0.0678,  ...,  0.0678,  0.0678,  0.0678],\n",
       "         [ 0.1355,  0.1355,  0.1355,  ...,  0.1355,  0.1355,  0.1355],\n",
       "         ...,\n",
       "         [-0.2033, -0.2033, -0.2033,  ..., -0.2033, -0.2033, -0.2033],\n",
       "         [-0.1355, -0.1355, -0.1355,  ..., -0.1355, -0.1355, -0.1355],\n",
       "         [-0.0678, -0.0678, -0.0678,  ..., -0.0678, -0.0678, -0.0678]],\n",
       "\n",
       "        [[ 0.0000,  0.0678,  0.1355,  ..., -0.2033, -0.1355, -0.0678],\n",
       "         [ 0.0000,  0.0678,  0.1355,  ..., -0.2033, -0.1355, -0.0678],\n",
       "         [ 0.0000,  0.0678,  0.1355,  ..., -0.2033, -0.1355, -0.0678],\n",
       "         ...,\n",
       "         [ 0.0000,  0.0678,  0.1355,  ..., -0.2033, -0.1355, -0.0678],\n",
       "         [ 0.0000,  0.0678,  0.1355,  ..., -0.2033, -0.1355, -0.0678],\n",
       "         [ 0.0000,  0.0678,  0.1355,  ..., -0.2033, -0.1355, -0.0678]]])"
      ]
     },
     "execution_count": 8,
     "metadata": {},
     "output_type": "execute_result"
    }
   ],
   "source": [
    "q"
   ]
  },
  {
   "cell_type": "code",
   "execution_count": 9,
   "id": "intelligent-likelihood",
   "metadata": {},
   "outputs": [
    {
     "data": {
      "application/vnd.jupyter.widget-view+json": {
       "model_id": "43e76db6db6a4cd8aaa4221b6105d4e2",
       "version_major": 2,
       "version_minor": 0
      },
      "text/plain": [
       "AppLayout(children=(Canvas(layout=Layout(grid_area='center'), toolbar=Toolbar(toolitems=[('Home', 'Reset origi…"
      ]
     },
     "metadata": {},
     "output_type": "display_data"
    }
   ],
   "source": [
    "from smpr3d.util import imsave\n",
    "Ap = Ap0.cuda()\n",
    "q = q.cuda()\n",
    "\n",
    "Psi_gen = ZernikeProbeSingle(q, meta.wavelength, fft_shifted=True)\n",
    "\n",
    "C_target = th.zeros((12)).float().cuda()\n",
    "C_target[0] = 0\n",
    "\n",
    "C_model = th.tensor(meta.aberrations).float().cuda()\n",
    "C_model[0] = 0\n",
    "\n",
    "psi_target = Psi_gen(C_target, Ap)\n",
    "psi_model = Psi_gen(C_target, Ap)\n",
    "psi_model = psi_model.cuda()\n",
    "psi_model.requires_grad_(False)\n",
    "\n",
    "f, ax = plt.subplots()\n",
    "ax.imshow(imsave(th.fft.ifft2(psi_model, norm='ortho').cpu().numpy()))\n",
    "AppLayout(center=f.canvas)"
   ]
  },
  {
   "cell_type": "code",
   "execution_count": 10,
   "id": "authentic-counter",
   "metadata": {},
   "outputs": [
    {
     "data": {
      "text/plain": [
       "Sparse4DData(scan_dimensions=array([512, 512]), frame_dimensions=array([48, 48]))"
      ]
     },
     "execution_count": 10,
     "metadata": {},
     "output_type": "execute_result"
    }
   ],
   "source": [
    "data"
   ]
  },
  {
   "cell_type": "code",
   "execution_count": 11,
   "id": "existing-interim",
   "metadata": {},
   "outputs": [
    {
     "data": {
      "application/vnd.jupyter.widget-view+json": {
       "model_id": "f0be04c2d29e4c4dbe501c4247fd35cc",
       "version_major": 2,
       "version_minor": 0
      },
      "text/plain": [
       "AppLayout(children=(Canvas(layout=Layout(grid_area='center'), toolbar=Toolbar(toolitems=[('Home', 'Reset origi…"
      ]
     },
     "metadata": {},
     "output_type": "display_data"
    }
   ],
   "source": [
    "# %%\n",
    "size = [60,180]\n",
    "start = [0,60]\n",
    "d2 = data.slice(np.s_[start[0]:start[0] + size[0], start[1]:start[1] + size[1]])\n",
    "\n",
    "f, ax = plt.subplots()\n",
    "ax.imshow(d2.sum_diffraction())\n",
    "AppLayout(center=f.canvas)"
   ]
  },
  {
   "cell_type": "code",
   "execution_count": 12,
   "id": "specified-astronomy",
   "metadata": {},
   "outputs": [
    {
     "data": {
      "text/plain": [
       "(Sparse4DData(scan_dimensions=array([ 60, 180]), frame_dimensions=array([48, 48])),\n",
       " array([0.30749022, 0.30749022]))"
      ]
     },
     "execution_count": 12,
     "metadata": {},
     "output_type": "execute_result"
    }
   ],
   "source": [
    "d2, dx\n"
   ]
  },
  {
   "cell_type": "code",
   "execution_count": 13,
   "id": "flying-watershed",
   "metadata": {},
   "outputs": [
    {
     "name": "stdout",
     "output_type": "stream",
     "text": [
      "N: tensor([119, 243], dtype=torch.int32)\n",
      "M: tensor([48, 48], dtype=torch.int32)\n",
      "K: 10800\n"
     ]
    }
   ],
   "source": [
    "import torch.optim as optim\n",
    "from smpr3d.util import array_split_divpoints_ntotal\n",
    "r = advanced_raster_scan(d2.scan_dimensions[0], d2.scan_dimensions[1], fast_axis=1, mirror=[1, 1], theta=meta.rotation_deg, dy=meta.pixel_step[0], dx=meta.pixel_step[1])\n",
    "margin = 10\n",
    "M = th.tensor(d2.frame_dimensions).int()\n",
    "N = th.tensor(np.ceil(r.max(axis=0)).astype(np.int32)) + margin + M\n",
    "K = r.shape[0]\n",
    "\n",
    "print('N:', N)\n",
    "print('M:', M)\n",
    "print('K:', K)\n",
    "\n",
    "T_model = th.ones(tuple(N), requires_grad=True, device=th.device('cuda:0'), dtype=th.complex64)\n",
    "\n",
    "pos = th.as_tensor(r + margin/2, device=T_model.device)\n",
    "\n",
    "indices_target = th.as_tensor(d2.indices, device=T_model.device)\n",
    "counts_target = th.as_tensor(d2.counts, device=T_model.device)\n",
    "ish = indices_target.shape\n",
    "\n",
    "indices_target = indices_target.view((K, ish[-1]))\n",
    "counts_target = th.sqrt(counts_target.view((K, ish[-1])).type(th.float32))\n",
    "\n",
    "C_model.requires_grad = False\n",
    "pos.requires_grad = False\n",
    "# optimizer = optim.Adam([T_model, C_model, pos], lr=1e-2)\n",
    "optimizer = optim.Adam([T_model], lr=1e-2)\n",
    "# loss_function = F.MSELoss(reduction='sum')\n",
    "# loss_function = F.PoissonNLLLoss(log_input=False, reduction='sum')\n",
    "\n"
   ]
  },
  {
   "cell_type": "code",
   "execution_count": 14,
   "id": "finnish-gabriel",
   "metadata": {},
   "outputs": [],
   "source": [
    "import torch as th\n",
    "import numpy as np\n",
    "from torch.autograd import Function\n",
    "from numba import cuda\n",
    "from numpy.fft import fftfreq\n",
    "\n",
    "@cuda.jit\n",
    "def sparse_amplitude_loss_kernel(a_model, indices_target, counts_target, loss, grad, frame_dimensions,\n",
    "                                 no_count_indicator):\n",
    "    k = cuda.grid(1)\n",
    "    K, _ = indices_target.shape\n",
    "    MY, MX = frame_dimensions\n",
    "    if k < K:\n",
    "        for i in range(indices_target[k].shape[0]):\n",
    "            idx1d = indices_target[k, i]\n",
    "            my = idx1d // MX\n",
    "            mx = idx1d - my * MX\n",
    "            if idx1d != no_count_indicator:\n",
    "                grad[k, my, mx] = 1 - (counts_target[k, i] / a_model[k, my, mx])\n",
    "                cuda.atomic.add(loss, (0), (a_model[k, my, mx] - counts_target[k, i]) ** 2)\n",
    "\n",
    "\n",
    "def sparse_amplitude_loss(a_model, indices_target, counts_target, frame_dimensions):\n",
    "    \"\"\"\n",
    "\n",
    "    :param a_model:             K x M1 x M2\n",
    "    :param indices_target:      K x num_max_counts\n",
    "    :param counts_target:       K x num_max_counts\n",
    "    :param frame_dimensions:    2\n",
    "    :return: loss (1,), grad (K x M1 x M2)\n",
    "    \"\"\"\n",
    "    threadsperblock = (256,)\n",
    "    blockspergrid = tuple(np.ceil(np.array(indices_target.shape[0]) / threadsperblock).astype(np.int))\n",
    "\n",
    "    loss = th.zeros((1,), device=a_model.device, dtype=th.float32)\n",
    "    grad = th.ones_like(a_model)\n",
    "    no_count_indicator = th.iinfo(indices_target.dtype).max\n",
    "    sparse_amplitude_loss_kernel[blockspergrid, threadsperblock](a_model.detach(), indices_target.detach(),\n",
    "                                                                 counts_target.detach(), loss.detach(), grad.detach(),\n",
    "                                                                 frame_dimensions, no_count_indicator)\n",
    "    return loss, grad\n",
    "\n",
    "class SparseAmplitudeLoss(Function):\n",
    "\n",
    "    @staticmethod\n",
    "    def forward(ctx, a_model, indices_target, counts_target):\n",
    "        frame_dimensions = th.as_tensor(a_model.shape[1:], device=a_model.device)\n",
    "        loss, grad = sparse_amplitude_loss(a_model, indices_target, counts_target, frame_dimensions)\n",
    "        loss.requires_grad = True\n",
    "        ctx.save_for_backward(grad)\n",
    "        return loss\n",
    "\n",
    "    @staticmethod\n",
    "    def backward(ctx, *grad_outputs):\n",
    "        grad_input, = ctx.saved_tensors\n",
    "        grad_indices = None\n",
    "        grad_counts = None\n",
    "        return grad_input, grad_indices, grad_counts\n",
    "\n",
    "class PtychoSubpix(th.autograd.Function):\n",
    "    @staticmethod\n",
    "    def forward(ctx, S: th.Tensor, M: th.Tensor, Psi, pos: th.Tensor) -> th.Tensor:\n",
    "        \"\"\"\n",
    "        :param S: N1 x N2 x 2     tensor\n",
    "        :param psi: M1 x M2 x 2     tensor in fourier space\n",
    "        :param pos: K x 2 real                  tensor\n",
    "\n",
    "        :return: D x K x M1 x M2                measured amplitudes in the far field\n",
    "        \"\"\"\n",
    "        qy, qx = np.meshgrid(fftfreq(M[0].item()), fftfreq(M[1].item()), indexing='ij')\n",
    "        # M1 x M2 x 2\n",
    "        q = th.stack([th.as_tensor(qy), th.as_tensor(qx)]).float().cuda()\n",
    "        rs = pos - pos.int()\n",
    "        ramp = th.exp( -2j * np.pi * (q[0][None, ...] * rs[:, 0][:, None, None] + q[1][None, ...] * rs[:, 1][:, None, None]))\n",
    "        # K x B x M x M x 2\n",
    "        swap = th.LongTensor([1, 0])\n",
    "        pos2 = pos[:, swap]\n",
    "        # K x M1 x M2 x 2\n",
    "        frames_exit = gather_patches(S, axes=[0, 1], positions=pos2.long(), patch_size=M, out=None)\n",
    "        # frames_exit = th.stack([S[:, r[1]:r[1] + M[1].item(), r[0]:r[0] + M[0].item()] for r in pos], 0)\n",
    "        # K x x M x M x 2\n",
    "        # psi = th.fft(psi, 2)\n",
    "        Psi = Psi.unsqueeze(0).repeat(ramp.shape[0], 1, 1, 1)\n",
    "        psi = th.fft.ifft2(Psi * ramp, norm='ortho')\n",
    "        # psi = th.ifft(Psi, 2, True)\n",
    "        # plotcxmosaic(complex_numpy(psi.detach().cpu()))\n",
    "        psi_exit = frames_exit * psi\n",
    "        # K x M x M x 2\n",
    "        Psi = th.fft.fft2(psi_exit, norm='ortho')\n",
    "        # K x M x M x 2\n",
    "        a_model = th.abs(Psi)\n",
    "\n",
    "        ctx.save_for_backward(frames_exit, Psi, psi, pos2, ramp, th.Tensor([S.shape])[0].int())\n",
    "\n",
    "        return a_model\n",
    "\n",
    "    def backward(ctx, grad_output):\n",
    "        frames_exit, Psi_exit, psi, pos2, ramp, ss = ctx.saved_tensors\n",
    "\n",
    "        M = [grad_output.shape[1], grad_output.shape[2]]\n",
    "\n",
    "        # K x M1 x M2 x 2\n",
    "        grad_Psi = Psi_exit * grad_output\n",
    "        # K x M1 x M2 x 2\n",
    "        grad_Psi = th.fft.ifft2(grad_Psi, norm='ortho')\n",
    "        # M1 x M2 x 2\n",
    "\n",
    "        tmp = grad_Psi * psi.conj()\n",
    "        grad_S = th.zeros(tuple(ss.numpy()), device=Psi_exit.device, dtype=th.float32)\n",
    "        grad_S = scatter_add_patches(tmp, grad_S, [0, 1], pos2.long(), M, reduce_dim=None)\n",
    "        # same = th.sum((grad_S[re] == grad_S[im]) * (grad_S[re] != 0)* (grad_S[im] != 0))\n",
    "        # print(f'same: {same}')\n",
    "        # zplot([frames_exit_shifted[10, :, :, 0].cpu(), frames_exit_shifted[10, :, :, 1].cpu()], cmap=['inferno', 'inferno'], figsize=(9, 5))\n",
    "        # zplot([frames_exit_shifted[20, :, :, 0].cpu(), frames_exit_shifted[20, :, :, 1].cpu()], cmap=['inferno', 'inferno'], figsize=(9, 5))\n",
    "        grad_psi = grad_Psi * frames_exit.conj()\n",
    "        grad_psi = th.fft2(grad_psi, 2, True)\n",
    "        ramp = ramp.view_as_real()\n",
    "        ramp[...,1] *= -1 \n",
    "        ramp = ramp.view_as_complex()\n",
    "        # K x M1 x M2 x 2\n",
    "        grad_psi = th.fft.ifft2(grad_psi * ramp, norm='ortho')\n",
    "        grad_psi = th.sum(grad_psi, 0)\n",
    "        grad_Psi = th.fft.fft2(grad_psi, norm='ortho')\n",
    "        # print('i got here 2')\n",
    "\n",
    "        grad_M = None\n",
    "        grad_pos = None\n",
    "\n",
    "        return grad_S, grad_M, grad_Psi, grad_pos"
   ]
  },
  {
   "cell_type": "code",
   "execution_count": 15,
   "id": "celtic-bloom",
   "metadata": {},
   "outputs": [],
   "source": [
    "A = PtychoSubpix.apply\n",
    "sparse_amplitude_loss_funtion = SparseAmplitudeLoss.apply"
   ]
  },
  {
   "cell_type": "code",
   "execution_count": 16,
   "id": "amber-greece",
   "metadata": {},
   "outputs": [
    {
     "data": {
      "text/plain": [
       "tensor([119, 243], dtype=torch.int32)"
      ]
     },
     "execution_count": 16,
     "metadata": {},
     "output_type": "execute_result"
    }
   ],
   "source": [
    "th.Tensor([T_model.shape])[0].int()"
   ]
  },
  {
   "cell_type": "code",
   "execution_count": 17,
   "id": "general-teens",
   "metadata": {},
   "outputs": [
    {
     "data": {
      "text/plain": [
       "torch.complex64"
      ]
     },
     "execution_count": 17,
     "metadata": {},
     "output_type": "execute_result"
    }
   ],
   "source": [
    "T_model.dtype"
   ]
  },
  {
   "cell_type": "code",
   "execution_count": 18,
   "id": "infectious-circular",
   "metadata": {},
   "outputs": [
    {
     "ename": "RuntimeError",
     "evalue": "CUDA error: device-side assert triggered",
     "output_type": "error",
     "traceback": [
      "\u001b[0;31m---------------------------------------------------------------------------\u001b[0m",
      "\u001b[0;31mRuntimeError\u001b[0m                              Traceback (most recent call last)",
      "\u001b[0;32m<ipython-input-18-c5efb9a090b9>\u001b[0m in \u001b[0;36m<module>\u001b[0;34m\u001b[0m\n\u001b[1;32m     26\u001b[0m \u001b[0mAp1\u001b[0m \u001b[0;34m=\u001b[0m \u001b[0mAp\u001b[0m\u001b[0;34m.\u001b[0m\u001b[0mfloat\u001b[0m\u001b[0;34m(\u001b[0m\u001b[0;34m)\u001b[0m\u001b[0;34m\u001b[0m\u001b[0;34m\u001b[0m\u001b[0m\n\u001b[1;32m     27\u001b[0m \u001b[0mPsi_model\u001b[0m \u001b[0;34m=\u001b[0m \u001b[0mPsi_gen\u001b[0m\u001b[0;34m(\u001b[0m\u001b[0mC_model\u001b[0m\u001b[0;34m,\u001b[0m \u001b[0mAp1\u001b[0m\u001b[0;34m)\u001b[0m\u001b[0;34m\u001b[0m\u001b[0;34m\u001b[0m\u001b[0m\n\u001b[0;32m---> 28\u001b[0;31m \u001b[0ma_model\u001b[0m \u001b[0;34m=\u001b[0m \u001b[0mA\u001b[0m\u001b[0;34m(\u001b[0m\u001b[0mT_model\u001b[0m\u001b[0;34m,\u001b[0m \u001b[0mM\u001b[0m\u001b[0;34m[\u001b[0m\u001b[0;34m:\u001b[0m\u001b[0;36m2\u001b[0m\u001b[0;34m]\u001b[0m\u001b[0;34m,\u001b[0m \u001b[0mPsi_model\u001b[0m\u001b[0;34m,\u001b[0m \u001b[0mpos\u001b[0m\u001b[0;34m[\u001b[0m\u001b[0mtake_ind\u001b[0m\u001b[0;34m]\u001b[0m\u001b[0;34m)\u001b[0m\u001b[0;34m\u001b[0m\u001b[0;34m\u001b[0m\u001b[0m\n\u001b[0m\u001b[1;32m     29\u001b[0m \u001b[0;34m\u001b[0m\u001b[0m\n",
      "\u001b[0;32m<ipython-input-14-4b3b5f39dcc6>\u001b[0m in \u001b[0;36mforward\u001b[0;34m(ctx, S, M, Psi, pos)\u001b[0m\n\u001b[1;32m     82\u001b[0m         \u001b[0;31m# psi = th.fft(psi, 2)\u001b[0m\u001b[0;34m\u001b[0m\u001b[0;34m\u001b[0m\u001b[0;34m\u001b[0m\u001b[0m\n\u001b[1;32m     83\u001b[0m         \u001b[0mPsi\u001b[0m \u001b[0;34m=\u001b[0m \u001b[0mPsi\u001b[0m\u001b[0;34m.\u001b[0m\u001b[0munsqueeze\u001b[0m\u001b[0;34m(\u001b[0m\u001b[0;36m0\u001b[0m\u001b[0;34m)\u001b[0m\u001b[0;34m.\u001b[0m\u001b[0mrepeat\u001b[0m\u001b[0;34m(\u001b[0m\u001b[0mramp\u001b[0m\u001b[0;34m.\u001b[0m\u001b[0mshape\u001b[0m\u001b[0;34m[\u001b[0m\u001b[0;36m0\u001b[0m\u001b[0;34m]\u001b[0m\u001b[0;34m,\u001b[0m \u001b[0;36m1\u001b[0m\u001b[0;34m,\u001b[0m \u001b[0;36m1\u001b[0m\u001b[0;34m,\u001b[0m \u001b[0;36m1\u001b[0m\u001b[0;34m)\u001b[0m\u001b[0;34m\u001b[0m\u001b[0;34m\u001b[0m\u001b[0m\n\u001b[0;32m---> 84\u001b[0;31m         \u001b[0mpsi\u001b[0m \u001b[0;34m=\u001b[0m \u001b[0mth\u001b[0m\u001b[0;34m.\u001b[0m\u001b[0mfft\u001b[0m\u001b[0;34m.\u001b[0m\u001b[0mifft2\u001b[0m\u001b[0;34m(\u001b[0m\u001b[0mPsi\u001b[0m \u001b[0;34m*\u001b[0m \u001b[0mramp\u001b[0m\u001b[0;34m,\u001b[0m \u001b[0mnorm\u001b[0m\u001b[0;34m=\u001b[0m\u001b[0;34m'ortho'\u001b[0m\u001b[0;34m)\u001b[0m\u001b[0;34m\u001b[0m\u001b[0;34m\u001b[0m\u001b[0m\n\u001b[0m\u001b[1;32m     85\u001b[0m         \u001b[0;31m# psi = th.ifft(Psi, 2, True)\u001b[0m\u001b[0;34m\u001b[0m\u001b[0;34m\u001b[0m\u001b[0;34m\u001b[0m\u001b[0m\n\u001b[1;32m     86\u001b[0m         \u001b[0;31m# plotcxmosaic(complex_numpy(psi.detach().cpu()))\u001b[0m\u001b[0;34m\u001b[0m\u001b[0;34m\u001b[0m\u001b[0;34m\u001b[0m\u001b[0m\n",
      "\u001b[0;31mRuntimeError\u001b[0m: CUDA error: device-side assert triggered"
     ]
    }
   ],
   "source": [
    "from tqdm import trange\n",
    "i = 0\n",
    "it = 1\n",
    "it = 30\n",
    "\n",
    "n_batches = 4\n",
    "divpoints = array_split_divpoints_ntotal(K, n_batches)\n",
    "\n",
    "# for i in trange(it):\n",
    "sum_loss = 0\n",
    "random_order = th.randperm(K)\n",
    "#     for b in range(n_batches):\n",
    "b = 1\n",
    "take_ind = random_order[divpoints[b]:divpoints[b+1]]\n",
    "if i > 10:\n",
    "    C_model.requires_grad = True\n",
    "\n",
    "# print(pos[100])\n",
    "# if i == 100:\n",
    "#     t = T_model.clone().detach().cpu().numpy()\n",
    "#     zplot([t[re], t[im]], cmap=['inferno', 'inferno'], figsize=(9, 5))\n",
    "optimizer.zero_grad()\n",
    "#         if i == 0:\n",
    "#             Ap1 = Ap + th.randn_like(Ap) *1e-4\n",
    "#         else:\n",
    "Ap1 = Ap.float()\n",
    "Psi_model = Psi_gen(C_model, Ap1)\n",
    "a_model = A(T_model, M[:2], Psi_model, pos[take_ind])\n",
    "\n"
   ]
  },
  {
   "cell_type": "code",
   "execution_count": null,
   "id": "introductory-metabolism",
   "metadata": {},
   "outputs": [],
   "source": [
    "# a_model = A(T_model, a, pos)\n",
    "loss = sparse_amplitude_loss_funtion(a_model, indices_target[take_ind], counts_target[take_ind])\n",
    "sum_loss += loss.item()\n",
    "loss.backward()"
   ]
  },
  {
   "cell_type": "code",
   "execution_count": null,
   "id": "disabled-majority",
   "metadata": {},
   "outputs": [],
   "source": [
    "# if i > 10:\n",
    "    # C_model.grad[1:] = 0\n",
    "# # print(pos.grad)\n",
    "# # print(psi_model.grad.sum())\n",
    "# t = complex_numpy(T_model.grad.clone().cpu())\n",
    "# t = rotate(t.real, -theta) + 1j * rotate(t.real, -theta)\n",
    "# plotcx(t[m:-m,m:-m])\n",
    "# zplot([t.real[m:-m, m:-m], t.imag[m:-m, m:-m]], title=['T_model.grad Re', 'T_model.grad Im'], cmap=['inferno', 'inferno'], figsize=(9, 5))\n",
    "optimizer.step()\n",
    "print(f'i {i} loss {sum_loss}, C_model = {C_model[0]} , C_target = {C_target[0]}')\n",
    "#%%\n",
    "from skimage.transform import rotate\n",
    "m = 80\n",
    "t = complex_numpy(T_model.clone().detach().cpu())\n",
    "t = rotate(t.real,-theta) + 1j * rotate(t.imag,-theta)\n",
    "# plotcx(t[m:-m,m:-m])\n",
    "zplot([np.abs(t)[m:-m,m:-m], np.angle(t)[m:-m,m:-m]], title=['Abs', 'Angle'], cmap=['inferno', 'inferno'], figsize=(9, 5))"
   ]
  },
  {
   "cell_type": "code",
   "execution_count": 15,
   "id": "residential-community",
   "metadata": {},
   "outputs": [
    {
     "ename": "NameError",
     "evalue": "name 'it' is not defined",
     "output_type": "error",
     "traceback": [
      "\u001b[0;31m---------------------------------------------------------------------------\u001b[0m",
      "\u001b[0;31mNameError\u001b[0m                                 Traceback (most recent call last)",
      "\u001b[0;32m<ipython-input-15-41d56e8e832c>\u001b[0m in \u001b[0;36m<module>\u001b[0;34m\u001b[0m\n\u001b[0;32m----> 1\u001b[0;31m \u001b[0mit\u001b[0m\u001b[0;34m\u001b[0m\u001b[0;34m\u001b[0m\u001b[0m\n\u001b[0m",
      "\u001b[0;31mNameError\u001b[0m: name 'it' is not defined"
     ]
    }
   ],
   "source": [
    "it"
   ]
  },
  {
   "cell_type": "code",
   "execution_count": null,
   "id": "fifth-health",
   "metadata": {},
   "outputs": [],
   "source": []
  }
 ],
 "metadata": {
  "kernelspec": {
   "display_name": "Python 3",
   "language": "python",
   "name": "python3"
  },
  "language_info": {
   "codemirror_mode": {
    "name": "ipython",
    "version": 3
   },
   "file_extension": ".py",
   "mimetype": "text/x-python",
   "name": "python",
   "nbconvert_exporter": "python",
   "pygments_lexer": "ipython3",
   "version": "3.8.8"
  },
  "pycharm": {
   "stem_cell": {
    "cell_type": "raw",
    "metadata": {
     "collapsed": false
    },
    "source": []
   }
  }
 },
 "nbformat": 4,
 "nbformat_minor": 5
}
