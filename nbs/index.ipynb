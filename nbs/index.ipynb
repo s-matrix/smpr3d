{
 "cells": [
  {
   "cell_type": "code",
   "execution_count": null,
   "metadata": {},
   "outputs": [],
   "source": [
    "#hide\n",
    "from smpr3d.core import *"
   ]
  },
  {
   "cell_type": "markdown",
   "metadata": {},
   "source": [
    "# Welcome to $\\mathcal{S}$mpr3D \n",
    "\n",
    "> $\\mathcal{S}$mpr3d (pronounced 'semper 3D', latin for 'always 3D', short for **$\\mathcal{S}$**-**M**atrix **P**hase **R**etrieval & **3D** imaging) simplifies recovering 3D phase-contrast information from scanning diffraction measurements, such as those collected in **4D**-**S**canning **T**ransmission **E**lectron **M**icroscopy (**4D-STEM**) experiments\n"
   ]
  },
  {
   "cell_type": "markdown",
   "metadata": {},
   "source": [
    "![CI](https://github.com/s-matrix/smpr3d/workflows/CI/badge.svg)"
   ]
  },
  {
   "cell_type": "markdown",
   "metadata": {},
   "source": [
    "## Installing"
   ]
  },
  {
   "cell_type": "markdown",
   "metadata": {},
   "source": [
    "\n",
    "TODO - check this works\n",
    "\n",
    "You can use $\\mathcal{S}$mpr3d without any installation by using [Google Colab](https://colab.research.google.com/). In fact, every page of this documentation is also available as an interactive notebook - click \"Open in colab\" at the top of any page to open it (be sure to change the Colab runtime to \"GPU\" to have it run fast!) See the fast.ai documentation on [Using Colab](https://course.fast.ai/start_colab) for more information.\n",
    "\n",
    "You can install $\\mathcal{S}$mpr3d on your own machines with conda (highly recommended). If you're using [Anaconda](https://www.anaconda.com/products/individual) then run:\n",
    "```bash\n",
    "conda install -c smpr3d -c pytorch -c anaconda smpr3d \n",
    "```\n",
    "\n",
    "To install with pip, use: `pip install smpr3d`. If you install with pip, you should install PyTorch first by following the PyTorch [installation instructions](https://pytorch.org/get-started/locally/)."
   ]
  },
  {
   "cell_type": "markdown",
   "metadata": {},
   "source": [
    "## Hackathon - How to use on the nesap cluster \n",
    "\n",
    "`git clone git@github.com:s-matrix/smpr3d.git`\n",
    "\n",
    "`module purge`\n",
    "\n",
    "`module load cgpu`\n",
    "\n",
    "`module load pytorch/1.8.0-gpu`\n",
    "\n",
    "`cd smpr3d`\n",
    "\n",
    "`python setup.py develop --user`\n",
    "\n",
    "`cd examples`\n",
    "\n",
    "`sbatch slurm.sh`"
   ]
  },
  {
   "cell_type": "markdown",
   "metadata": {},
   "source": [
    "## About $\\mathcal{S}$mpr3d\n",
    "\n",
    "A fabulous idea\n",
    "\n",
    "## Acknowledgements\n",
    "\n",
    "[Hamish Brown (former NCEM)](https://github.com/HamishGBrown) - theory, code dev and first demonstrations\n",
    "\n",
    "[Colin Ophus (NCEM)](https://github.com/cophus) - theory, code dev and first demonstrations\n",
    "\n",
    "[Pierre Carrier (HPEnterprise)](https://github.com/PierreCarrier) - performance profiling \n",
    "\n",
    "[Daniel Margala (NERSC)](https://github.com/dmargala) - performance profiling \n",
    "\n",
    "## References\n",
    "\n",
    "Pelz, P. M. et al. Reconstructing the Scattering Matrix from Scanning Electron Diffraction Measurements Alone. (2020)., `doi <https://arxiv.org/abs/2008.12768v1>`\n",
    "\n",
    "Brown, H. G. et al. A three-dimensional reconstruction algorithm for scanning transmission electron microscopy data from thick samples. `doi <http://arxiv.org/abs/2011.07652>`\n",
    "\n",
    "## How to contribute\n",
    "\n",
    "Before committing, run\n",
    "\n",
    "`nbdev_build_lib && nbdev_clean_nbs && nbdev_build_docs`\n",
    "\n",
    "to compile the notebook into script files, clean the notebooks, and build the documentation."
   ]
  },
  {
   "cell_type": "markdown",
   "metadata": {},
   "source": [
    "\n"
   ]
  }
 ],
 "metadata": {
  "kernelspec": {
   "display_name": "Python 3",
   "language": "python",
   "name": "python3"
  }
 },
 "nbformat": 4,
 "nbformat_minor": 2
}
