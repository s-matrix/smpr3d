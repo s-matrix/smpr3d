{
 "cells": [
  {
   "cell_type": "code",
   "execution_count": null,
   "metadata": {},
   "outputs": [],
   "source": [
    "#hide\n",
    "from smpr3d.core import *"
   ]
  },
  {
   "cell_type": "markdown",
   "metadata": {},
   "source": [
    "# Welcome to Smpr3D!\n",
    "\n",
    "> Smpr3d (pronounced 'semper 3D', latin for 'always 3D', short for **S**-**M**atrix **P**hase **R**etrieval & **3D** imaging) simplifies recovering 3D phase-contrast information from scanning diffraction measurements, such as those collected in **4D**-**S**canning **T**ransmission **E**lectron **M**icroscopy (**4D-STEM**) experiments"
   ]
  },
  {
   "cell_type": "markdown",
   "metadata": {},
   "source": [
    "🚨 **Smpr3D is a research project at an early stage of\n",
    "development. Expect monstrous bugs and razor-sharp edges! A beta release is planned for M&M 2021.**"
   ]
  },
  {
   "cell_type": "markdown",
   "metadata": {},
   "source": [
    "![CI](https://github.com/s-matrix/smpr3d/workflows/CI/badge.svg)\n",
    "## Documentation\n",
    "\n",
    "Documentation can be found [here](https://s-matrix.github.io/smpr3d/)."
   ]
  },
  {
   "cell_type": "markdown",
   "metadata": {},
   "source": [
    "## Installing"
   ]
  },
  {
   "cell_type": "markdown",
   "metadata": {},
   "source": [
    "TODO: You can't use smpr3d without any installation by using [Google Colab](https://colab.research.google.com/) yet, but I will be working on it. In fact, every page of this documentation will also be available as an interactive notebook - click \"Open in colab\" at the top of any page to open it (be sure to change the Colab runtime to \"GPU\"!).\n",
    "\n",
    "You can install smpr3d on your own machines with pip. If you're using [Anaconda](https://www.anaconda.com/products/individual) then run:\n",
    "```bash\n",
    "pip install smpr3d\n",
    "```\n",
    "If you install with pip, you should install PyTorch first by following the PyTorch [installation instructions](https://pytorch.org/get-started/locally/)."
   ]
  },
  {
   "cell_type": "markdown",
   "metadata": {},
   "source": [
    "## Hackathon - How to use on the nesap cluster \n",
    "\n",
    "`git clone git@github.com:s-matrix/smpr3d.git`\n",
    "\n",
    "`module purge`\n",
    "\n",
    "`module load cgpu`\n",
    "\n",
    "`module load pytorch/1.8.0-gpu`\n",
    "\n",
    "`cd smpr3d`\n",
    "\n",
    "`python setup.py develop --user`\n",
    "\n",
    "`cd examples`\n",
    "\n",
    "`sbatch slurm.sh`"
   ]
  },
  {
   "cell_type": "markdown",
   "metadata": {},
   "source": [
    "## About Smpr3d\n",
    "\n",
    "Reconstruction toolbox for 3D phase-contrast from 4D-STEM data.\n",
    "\n",
    "## Acknowledgements\n",
    "\n",
    "[Hamish Brown (former NCEM)](https://github.com/HamishGBrown) - theory and first demonstrations\n",
    "\n",
    "[Colin Ophus (NCEM)](https://github.com/cophus) - theory and first demonstrations\n",
    "\n",
    "[David Ren (former UC Berkeley)](https://github.com/yhren1993) - initial phase-contrast tomography code\n",
    "\n",
    "[Alex Rakowski (NCEM)](https://github.com/alex-rakowski) - hpc\n",
    "\n",
    "[Jim Ciston (NCEM)](https://foundry.lbl.gov/about/staff/jim-ciston/) - first demonstrations\n",
    "\n",
    "[Mary Scott (NCEM)](https://github.com/orgs/ScottLabUCB/) - first demonstrations\n",
    "\n",
    "[Scott Findlay (Monash)](https://research.monash.edu/en/persons/scott-findlay) - theory\n",
    "\n",
    "[Pierre Carrier (HPEnterprise)](https://github.com/PierreCarrier) - performance profiling \n",
    "\n",
    "[Daniel Margala (NERSC)](https://github.com/dmargala) - performance profiling\n",
    "\n",
    "## References\n",
    "\n",
    "[Pelz, P. M. et al. Phase-contrast imaging of multiply-scattering extended objects at atomic resolution by reconstruction of the scattering matrix. (2021).](https://journals.aps.org/prresearch/abstract/10.1103/PhysRevResearch.3.023159)\n",
    "\n",
    "Brown, H. G. et al. A three-dimensional reconstruction algorithm for scanning transmission electron microscopy data from thick samples. `doi <http://arxiv.org/abs/2011.07652>`\n",
    "\n",
    "## How to contribute\n",
    "\n",
    "Before committing, run\n",
    "\n",
    "`nbdev_build_lib && nbdev_clean_nbs && nbdev_build_docs`\n",
    "\n",
    "to compile the notebook into script files, clean the notebooks, and build the documentation.\n",
    "\n",
    "Do not edit this README directly, rather edit index.ipynb and regenerate the README."
   ]
  },
  {
   "cell_type": "markdown",
   "metadata": {},
   "source": []
  }
 ],
 "metadata": {
  "kernelspec": {
   "display_name": "Python 3",
   "language": "python",
   "name": "python3"
  }
 },
 "nbformat": 4,
 "nbformat_minor": 2
}
