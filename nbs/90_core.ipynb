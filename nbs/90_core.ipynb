{
 "cells": [
  {
   "cell_type": "code",
   "execution_count": null,
   "metadata": {
    "collapsed": true
   },
   "outputs": [],
   "source": [
    "# default_exp core"
   ]
  },
  {
   "cell_type": "markdown",
   "source": [
    "# Core\n",
    "\n",
    "> API details."
   ],
   "metadata": {
    "collapsed": false
   }
  },
  {
   "cell_type": "code",
   "execution_count": null,
   "outputs": [],
   "source": [
    "#export \n",
    "\n",
    "class ReconstructionOptions:\n",
    "    def __init__(self):\n",
    "        pass"
   ],
   "metadata": {
    "collapsed": false,
    "pycharm": {
     "name": "#%%\n"
    }
   }
  },
  {
   "cell_type": "code",
   "execution_count": null,
   "outputs": [],
   "source": [
    "#export \n",
    "from smpr3d.util import fourier_coordinates_2D\n",
    "from smpr3d.torch_imports import *\n",
    "import numpy as np \n",
    "from numpy.fft import fftshift\n",
    "\n",
    "class SMeta:\n",
    "    def __init__(self, take_beams, dx, S_shape, MY, MX, device):\n",
    "        self.f = S_shape[1:] / np.array([MY, MX])\n",
    "        self.S_shape = S_shape\n",
    "        self.q = th.as_tensor(fourier_coordinates_2D(S_shape[1:], dx.numpy(), centered=False), device=device)\n",
    "        self.qf = th.as_tensor(fourier_coordinates_2D([MY, MX], dx.numpy(), centered=False), device=device)\n",
    "        self.q2 = th.norm(self.q, dim=0) ** 2\n",
    "        self.qf2 = th.norm(self.qf, dim=0) ** 2\n",
    "        self.q_coords = th.from_numpy(\n",
    "            fftshift(np.array(np.mgrid[-MY // 2:MY // 2, -MX // 2:MX // 2]), (1, 2))).to(device)\n",
    "        self.r_indices = th.from_numpy(np.mgrid[:MY, :MX]).to(device)\n",
    "        self.take_beams = take_beams.to(device)\n",
    "        \n",
    "        B = th.sum(take_beams).item()\n",
    "        self.beam_numbers = th.ones_like(take_beams, dtype=th.long, device=device) * -1\n",
    "        self.beam_numbers[take_beams] = th.arange(0, B, device=device)\n",
    "        self.q_b = th.stack([self.qf[0,take_beams],self.qf[1,take_beams]]).T\n",
    "        self.q_b_coords = th.from_numpy(np.mgrid[:MY, :MX]).to(device)\n",
    "        self.q_dft = th.from_numpy(fourier_coordinates_2D([MY, MX], [1, 1], centered=False)).to(device)\n",
    "        \n",
    "        #S_shape          array (3,)        \n",
    "        #q              (NY, NX) x\n",
    "        #qf             (MY, MX) x\n",
    "        #q2             (NY, NX) x\n",
    "        #q2f            (MY, MX) x\n",
    "        #f              (2,)\n",
    "        #q_coords       (MY, MX)\n",
    "        #r_indices      (NY, NX)\n",
    "        #take_beams     (MY, MX)\n",
    "        #beam_numbers   (MY, MX)\n",
    "        #q_b            (B, 2)\n",
    "        #q_b_coords     (B, 2)"
   ],
   "metadata": {
    "collapsed": false,
    "pycharm": {
     "name": "#%%\n"
    }
   }
  }
 ],
 "metadata": {
  "kernelspec": {
   "display_name": "Python 3",
   "language": "python",
   "name": "python3"
  },
  "language_info": {
   "codemirror_mode": {
    "name": "ipython",
    "version": 2
   },
   "file_extension": ".py",
   "mimetype": "text/x-python",
   "name": "python",
   "nbconvert_exporter": "python",
   "pygments_lexer": "ipython2",
   "version": "2.7.6"
  },
  "pycharm": {
   "stem_cell": {
    "cell_type": "raw",
    "source": [],
    "metadata": {
     "collapsed": false
    }
   }
  }
 },
 "nbformat": 4,
 "nbformat_minor": 0
}