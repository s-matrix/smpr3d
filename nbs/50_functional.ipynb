{
 "cells": [
  {
   "cell_type": "code",
   "execution_count": null,
   "metadata": {},
   "outputs": [],
   "source": [
    "# default_exp util"
   ]
  },
  {
   "cell_type": "markdown",
   "metadata": {},
   "source": [
    "# Custom modules and functions\n",
    "\n",
    "> API details.\n"
   ]
  },
  {
   "cell_type": "code",
   "execution_count": null,
   "metadata": {},
   "outputs": [],
   "source": [
    "#export \n",
    "from smpr3d.torch_imports import *\n",
    "from smpr3d.util import cartesian_aberrations, fftshift_checkerboard\n",
    "\n",
    "class ZernikeProbe2(nn.Module):\n",
    "    def __init__(self, q: th.Tensor, lam, fft_shifted=True):\n",
    "        \"\"\"\n",
    "        Creates an aberration surface from aberration coefficients. The output is backpropable\n",
    "\n",
    "        :param q: 2 x M1 x M2 tensor of x coefficients of reciprocal space\n",
    "        :param lam: wavelength in Angstrom\n",
    "        :param C: aberration coefficients\n",
    "        :return: (maximum size of all aberration tensors) x MY x MX\n",
    "        \"\"\"\n",
    "\n",
    "        super(ZernikeProbe2, self).__init__()\n",
    "        self.q = q\n",
    "        self.lam = lam\n",
    "        self.fft_shifted = fft_shifted\n",
    "\n",
    "        if self.fft_shifted:\n",
    "            cb = fftshift_checkerboard(self.q.shape[1] // 2, self.q.shape[2] // 2)\n",
    "            self.cb = th.from_numpy(cb).float().to(q.device)\n",
    "\n",
    "    def forward(self, C, A):\n",
    "        chi = cartesian_aberrations(self.q[1], self.q[0], self.lam, C)\n",
    "        Psi = th.exp(-1j*chi) * A.expand_as(chi)\n",
    "\n",
    "        if self.fft_shifted:\n",
    "            Psi = Psi * self.cb\n",
    "\n",
    "        return Psi\n"
   ]
  }
 ],
 "metadata": {
  "kernelspec": {
   "display_name": "Python 3",
   "language": "python",
   "name": "python3"
  }
 },
 "nbformat": 4,
 "nbformat_minor": 0
}
