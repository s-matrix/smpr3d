{
 "cells": [
  {
   "cell_type": "code",
   "execution_count": null,
   "metadata": {
    "collapsed": true
   },
   "outputs": [],
   "source": [
    "# default_exp util"
   ]
  },
  {
   "cell_type": "markdown",
   "source": [
    "# Util\n",
    "\n",
    "> API details.\n"
   ],
   "metadata": {
    "collapsed": false
   }
  },
  {
   "cell_type": "code",
   "execution_count": null,
   "outputs": [],
   "source": [
    "#export \n",
    "from smpr3d.torch_imports import *\n",
    "from smpr3d.util import cartesian_aberrations, fftshift_checkerboard\n",
    "\n",
    "class ZernikeProbe2(nn.Module):\n",
    "    def __init__(self, q: th.Tensor, lam, fft_shifted=True):\n",
    "        \"\"\"\n",
    "        Creates an aberration surface from aberration coefficients. The output is backpropable\n",
    "\n",
    "        :param q: 2 x M1 x M2 tensor of x coefficients of reciprocal space\n",
    "        :param lam: wavelength in Angstrom\n",
    "        :param C: aberration coefficients\n",
    "        :return: (maximum size of all aberration tensors) x MY x MX\n",
    "        \"\"\"\n",
    "\n",
    "        super(ZernikeProbe2, self).__init__()\n",
    "        self.q = q\n",
    "        self.lam = lam\n",
    "        self.fft_shifted = fft_shifted\n",
    "\n",
    "        if self.fft_shifted:\n",
    "            cb = fftshift_checkerboard(self.q.shape[1] // 2, self.q.shape[2] // 2)\n",
    "            self.cb = th.from_numpy(cb).float().to(q.device)\n",
    "\n",
    "    def forward(self, C, A):\n",
    "        chi = cartesian_aberrations(self.q[1], self.q[0], self.lam, C)\n",
    "        Psi = th.exp(-1j*chi) * A.expand_as(chi)\n",
    "\n",
    "        if self.fft_shifted:\n",
    "            Psi = Psi * self.cb\n",
    "\n",
    "        return Psi\n"
   ],
   "metadata": {
    "collapsed": false,
    "pycharm": {
     "name": "#%%\n"
    }
   }
  }
 ],
 "metadata": {
  "kernelspec": {
   "display_name": "Python 3",
   "language": "python",
   "name": "python3"
  },
  "language_info": {
   "codemirror_mode": {
    "name": "ipython",
    "version": 2
   },
   "file_extension": ".py",
   "mimetype": "text/x-python",
   "name": "python",
   "nbconvert_exporter": "python",
   "pygments_lexer": "ipython2",
   "version": "2.7.6"
  },
  "pycharm": {
   "stem_cell": {
    "cell_type": "raw",
    "source": [],
    "metadata": {
     "collapsed": false
    }
   }
  }
 },
 "nbformat": 4,
 "nbformat_minor": 0
}