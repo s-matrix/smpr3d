{
 "cells": [
  {
   "cell_type": "markdown",
   "metadata": {},
   "source": [
    "# Modules\n",
    "\n",
    "> API details."
   ]
  },
  {
   "cell_type": "code",
   "execution_count": null,
   "metadata": {},
   "outputs": [],
   "source": [
    "#default_exp modules"
   ]
  },
  {
   "cell_type": "code",
   "execution_count": null,
   "metadata": {},
   "outputs": [],
   "source": [
    "#export\n",
    "from smpr3d.kernels import *\n",
    "import torch as th\n",
    "import numpy as np\n",
    "import math as m\n",
    "import numba.cuda as cuda\n",
    "import torch.nn as nn\n",
    "from smpr3d.operators import generate_angular_spectrum_kernel, convolve_kernel\n",
    "th.autograd.set_detect_anomaly(True)"
   ]
  },
  {
   "cell_type": "code",
   "execution_count": null,
   "metadata": {},
   "outputs": [],
   "source": [
    "#export \n",
    "class SingleSlicePropagation(nn.Module):\n",
    "    '''\n",
    "    Class for propagation for single slice\n",
    "    '''\n",
    "    def __init__(self, shape, pixel_size, wavelength, \\\n",
    "                 numerical_aperture=None,  flag_band_limited=False, \\\n",
    "                 dtype=th.float32, device=th.device('cuda')):\n",
    "        super(SingleSlicePropagation, self).__init__()\n",
    "        self.kernel_phase     = generate_angular_spectrum_kernel(shape, pixel_size, wavelength, \\\n",
    "                                                                 numerical_aperture=None,  flag_band_limited=False, \\\n",
    "                                                                 dtype=dtype, device=device)\n",
    "\n",
    "    def forward(self, field_in, propagation_distance):\n",
    "        if propagation_distance == 0:\n",
    "            return field_in\n",
    "        kernel = th.exp(abs(propagation_distance) * self.kernel_phase)\n",
    "        kernel = kernel if propagation_distance > 0. else th.conj(kernel)\n",
    "        field_out = convolve_kernel(field_in, kernel, 2, False)\n",
    "        return field_out\n"
   ]
  },
  {
   "cell_type": "code",
   "execution_count": null,
   "metadata": {},
   "outputs": [],
   "source": [
    "#export \n",
    "class Defocus(nn.Module):\n",
    "    def __init__(self, device=th.device('cuda'), **kwargs):\n",
    "        super(Defocus, self).__init__()\n",
    "        self.device = device\n",
    "        \n",
    "    def forward(self, field, kernel, defocus_list= [0.0]):\n",
    "        field = field.cuda()\n",
    "        kernel = kernel.cuda()\n",
    "        fft_n_dim = 2\n",
    "        dim = [-fft_n_dim+i for i in range(fft_n_dim)]\n",
    "        field = th.fft.fftn(field, dim=dim)\n",
    "        field = field.unsqueeze(2).repeat(1, 1, len(defocus_list)).permute(2,0,1)\n",
    "        field_out = field.clone()\n",
    "        for defocus_idx in range(len(defocus_list)):\n",
    "            kernel_temp = th.exp((defocus_list[defocus_idx]) * kernel)\n",
    "            kernel_temp = kernel_temp if defocus_list[defocus_idx] > 0. else th.conj(kernel_temp)\n",
    "            field_out[defocus_idx,...] = field[defocus_idx,...] * kernel_temp\n",
    "        field_out = th.fft.ifftn(field_out, dim=dim).permute(1,2,0)\n",
    "        return field_out.to(self.device)"
   ]
  },
  {
   "cell_type": "code",
   "execution_count": null,
   "metadata": {},
   "outputs": [],
   "source": [
    "#export \n",
    "class MultislicePropagation(nn.Module):\n",
    "    def __init__(self, shape, voxel_size, wavelength,  numerical_aperture=None, dtype=th.float32, device=th.device('cuda'),   **kwargs):\n",
    "        super(MultislicePropagation, self).__init__()\n",
    "        self.shape            = shape  \n",
    "        self.voxel_size       = voxel_size\n",
    "        self.device           = device\n",
    "        self.distance_to_center = (self.shape[2]/2. - 1/2.) * self.voxel_size[2]\n",
    "        self.propagate        = SingleSlicePropagation(self.shape[0:2], self.voxel_size[0],  wavelength, \\\n",
    "                                                       numerical_aperture=None, flag_band_limited=False, \\\n",
    "                                                       dtype=dtype, device=th.device('cuda'))    \n",
    "    def forward(self, obj, field_in=None):\n",
    "        field = field_in\n",
    "        if field is None:\n",
    "            field = obj[:,:,0]\n",
    "        else:\n",
    "            field *= obj[:,:,0]\n",
    "        field = field.cuda()\n",
    "        field = self.propagate(field, self.voxel_size[2])\n",
    "        slice_per_gpu = 500\n",
    "        for idx_start in range(1, self.shape[2], slice_per_gpu):\n",
    "            idx_end = np.min([self.shape[2], idx_start+slice_per_gpu])\n",
    "            idx_slice = slice(idx_start, idx_end)            \n",
    "            obj_temp = obj[:,:,idx_slice].cuda()\n",
    "            for layer_idx in range(0, obj_temp.shape[2]):\n",
    "                field *= obj_temp[:,:,layer_idx]\n",
    "                if layer_idx < self.shape[2] - 1:\n",
    "                    #Propagate forward one layer\n",
    "                    field = self.propagate(field, self.voxel_size[2])\n",
    "                else:\n",
    "                    field = self.propagate(field, -1. * self.distance_to_center)\n",
    "        return field.to(self.device)"
   ]
  }
 ],
 "metadata": {
  "kernelspec": {
   "display_name": "Python 3",
   "language": "python",
   "name": "python3"
  }
 },
 "nbformat": 4,
 "nbformat_minor": 0
}
