{
 "cells": [
  {
   "cell_type": "code",
   "execution_count": null,
   "metadata": {
    "collapsed": true
   },
   "outputs": [],
   "source": [
    "#default_exp kernels"
   ]
  },
  {
   "cell_type": "code",
   "execution_count": null,
   "outputs": [],
   "source": [
    "#export \n",
    "import numba.cuda as cuda\n",
    "import cmath as cm\n",
    "\n",
    "@cuda.jit\n",
    "def smatrix_forward_kernel(S, phase_factors, rho, r_min, out):\n",
    "    \"\"\"\n",
    "    :param S:               B x NY x NX\n",
    "    :param phase_factors:   B x D x K x 2\n",
    "    :param rho:               D x K x 2\n",
    "    :param out:             D x K x MY x MX\n",
    "    :return: exit waves in out\n",
    "    \"\"\"\n",
    "    n = cuda.blockIdx.x * cuda.blockDim.x + cuda.threadIdx.x\n",
    "    D, K, MY, MX, _ = out.shape\n",
    "    B = S.shape[0]\n",
    "    MM = MY * MX\n",
    "\n",
    "    b = int(n // MM)\n",
    "    my = (n - b * MM) // MX\n",
    "    mx = (n - b * MM - my * MX)\n",
    "\n",
    "    if n < B * MY * MX:\n",
    "        for d in range(D):\n",
    "            for k in range(K):\n",
    "                # indexing with pixel precision\n",
    "                rho0 = int(rho[d, k, 0] - r_min[0])\n",
    "                rho1 = int(rho[d, k, 1] - r_min[1])\n",
    "\n",
    "                a = S[b, rho0 + my, rho1 + mx, 0]\n",
    "                c = S[b, rho0 + my, rho1 + mx, 1]\n",
    "                u = phase_factors[b, d, k, 0]\n",
    "                v = phase_factors[b, d, k, 1]\n",
    "\n",
    "                val_real = a * u - c * v\n",
    "                val_imag = c * u + a * v\n",
    "\n",
    "                cuda.atomic.add(out, (d, k, my, mx, 0), val_real)\n",
    "                cuda.atomic.add(out, (d, k, my, mx, 1), val_imag)"
   ],
   "metadata": {
    "collapsed": false,
    "pycharm": {
     "name": "#%%\n"
    }
   }
  },
  {
   "cell_type": "code",
   "execution_count": null,
   "outputs": [],
   "source": [
    "#export\n",
    "@cuda.jit\n",
    "def smatrix_backward_kernel_S(z, phase_factors, mean_probe_intensities, r, r_min, out, tau):\n",
    "    \"\"\"\n",
    "    S-matrix has beam tilts included, pre-calculated scanning phase factors.\n",
    "    Fastest to compute\n",
    "\n",
    "    :param z:                       D x K x MY x MX x 2\n",
    "    :param phase_factors:           B x D x K x 2\n",
    "    :param r:                       D x K x 2\n",
    "    :param mean_probe_intensities:  D\n",
    "    :param out:                     B x NY x NX x 2\n",
    "    :param z_strides:  (4,)\n",
    "    :return: exit waves in out\n",
    "    \"\"\"\n",
    "    n = cuda.blockIdx.x * cuda.blockDim.x + cuda.threadIdx.x\n",
    "    D, K, MY, MX, _ = z.shape\n",
    "    B = out.shape[0]\n",
    "\n",
    "    b = n // (MY * MX)\n",
    "    my = (n - b * (MX * MY)) // MX\n",
    "    mx = (n - b * (MX * MY) - my * MX)\n",
    "\n",
    "    if n < MY * MX * B:\n",
    "        for d in range(D):\n",
    "            for k in range(K):\n",
    "                r0 = int(r[d, k, 0] - r_min[0])\n",
    "                r1 = int(r[d, k, 1] - r_min[1])\n",
    "\n",
    "                a = z[d, k, my, mx, 0]\n",
    "                c = z[d, k, my, mx, 1]\n",
    "                u = phase_factors[b, d, k, 0]\n",
    "                v = phase_factors[b, d, k, 1]\n",
    "\n",
    "                val_real = a * u + c * v\n",
    "                val_imag = c * u - a * v\n",
    "\n",
    "                val_real *= tau[0] / mean_probe_intensities[d]\n",
    "                val_imag *= tau[0] / mean_probe_intensities[d]\n",
    "\n",
    "                cuda.atomic.add(out, (b, r0 + my, r1 + mx, 0), val_real)\n",
    "                cuda.atomic.add(out, (b, r0 + my, r1 + mx, 1), val_imag)"
   ],
   "metadata": {
    "collapsed": false,
    "pycharm": {
     "name": "#%%\n"
    }
   }
  },
  {
   "cell_type": "code",
   "execution_count": null,
   "outputs": [],
   "source": [
    "#export\n",
    "@cuda.jit\n",
    "def phase_factor_kernelDBK(Psi, rho, qB, out):\n",
    "    \"\"\"\n",
    "    Calculate the phase factors (due to beam scan) probe wave function so that\n",
    "    the probe is scanned to the correct place for each diffraction pattern\n",
    "\n",
    "    :param Psi:         D x B\n",
    "        Probe wave functions Fourier coefficient for each beam to be mutliplied\n",
    "        by phase factor to account for beam scan position\n",
    "    :param rho:           D x K x 2\n",
    "        Probe positions in pixels\n",
    "    :param qB:          2 x B\n",
    "        Fourier space coordinates of the beams\n",
    "    :param out:         D x B x K x 2\n",
    "        Phase factors output\n",
    "    :param out_strides: (3,)\n",
    "    :return: scanning phases for all defoc, beams, positions\n",
    "    \"\"\"\n",
    "    n = cuda.blockIdx.x * cuda.blockDim.x + cuda.threadIdx.x\n",
    "    B, D, K, c = out.shape\n",
    "    N = B * K * D\n",
    "\n",
    "    b = n // (K * D)\n",
    "    d = (n - b * (K * D)) // K\n",
    "    k = (n - b * (K * D) - d * K)\n",
    "\n",
    "    if n < N:\n",
    "        rho0 = rho[d, k, 0]\n",
    "        rho1 = rho[d, k, 1]\n",
    "        Psic = Psi[d, b, 0] + 1j * Psi[d, b, 1]\n",
    "        # scanning phase with subpixel precision\n",
    "        v = cm.exp(-2j * cm.pi * (qB[0, b] * rho0 + qB[1, b] * rho1)) * Psic\n",
    "        out[b, d, k, 0] = v.real\n",
    "        out[b, d, k, 1] = v.imag"
   ],
   "metadata": {
    "collapsed": false,
    "pycharm": {
     "name": "#%%\n"
    }
   }
  },
  {
   "cell_type": "code",
   "execution_count": null,
   "outputs": [],
   "source": [
    "#export\n",
    "@cuda.jit\n",
    "def phase_factor_kernelKB(Psi, rho, qB, out):\n",
    "    \"\"\"\n",
    "    Calculate the phase factors (due to beam scan) probe wave function so that\n",
    "    the probe is scanned to the correct place for each diffraction pattern\n",
    "\n",
    "    :param Psi:         B x 2\n",
    "        Probe wave functions Fourier coefficient for each beam to be mutliplied\n",
    "        by phase factor to account for beam scan position\n",
    "    :param rho:         K x 2\n",
    "        Probe positions in pixels\n",
    "    :param qB:          2 x B\n",
    "        Fourier space coordinates of the beams\n",
    "    :param out:         K x B x 2\n",
    "        Phase factors output\n",
    "    :return: scanning phases for all defoc, beams, positions\n",
    "    \"\"\"\n",
    "    n = cuda.blockIdx.x * cuda.blockDim.x + cuda.threadIdx.x\n",
    "    K, B, c = out.shape\n",
    "    N = B * K\n",
    "\n",
    "    b = n // (K)\n",
    "    k = (n - b * K)\n",
    "\n",
    "    if n < N:\n",
    "        rho0 = rho[k, 0]\n",
    "        rho1 = rho[k, 1]\n",
    "        Psic = Psi[b, 0] + 1j * Psi[b, 1]\n",
    "        # scanning phase with subpixel precision\n",
    "        v = cm.exp(-2j * cm.pi * (qB[0, b] * rho0 + qB[1, b] * rho1)) * Psic\n",
    "        out[k, b, 0] = v.real\n",
    "        out[k, b, 1] = v.imag"
   ],
   "metadata": {
    "collapsed": false,
    "pycharm": {
     "name": "#%%\n"
    }
   }
  },
  {
   "cell_type": "code",
   "execution_count": null,
   "outputs": [],
   "source": [
    "#export"
   ],
   "metadata": {
    "collapsed": false,
    "pycharm": {
     "name": "#%%\n"
    }
   }
  }
 ],
 "metadata": {
  "kernelspec": {
   "display_name": "Python 3",
   "language": "python",
   "name": "python3"
  },
  "language_info": {
   "codemirror_mode": {
    "name": "ipython",
    "version": 2
   },
   "file_extension": ".py",
   "mimetype": "text/x-python",
   "name": "python",
   "nbconvert_exporter": "python",
   "pygments_lexer": "ipython2",
   "version": "2.7.6"
  },
  "pycharm": {
   "stem_cell": {
    "cell_type": "raw",
    "source": [],
    "metadata": {
     "collapsed": false
    }
   }
  }
 },
 "nbformat": 4,
 "nbformat_minor": 0
}