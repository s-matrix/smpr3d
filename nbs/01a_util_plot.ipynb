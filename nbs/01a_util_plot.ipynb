{
 "cells": [
  {
   "cell_type": "code",
   "execution_count": null,
   "metadata": {
    "collapsed": true
   },
   "outputs": [],
   "source": [
    "# default_exp util"
   ]
  },
  {
   "cell_type": "markdown",
   "source": [
    "# Util\n",
    "\n",
    "> API details.\n"
   ],
   "metadata": {
    "collapsed": false
   }
  },
  {
   "cell_type": "code",
   "execution_count": null,
   "outputs": [],
   "source": [
    "#export \n",
    "import matplotlib\n",
    "import matplotlib.gridspec as gridspec\n",
    "import matplotlib.pyplot as plt\n",
    "from mpl_toolkits.axes_grid1 import make_axes_locatable\n",
    "from mpl_toolkits.axes_grid1.anchored_artists import AnchoredSizeBar\n",
    "import matplotlib.font_manager as fm\n",
    "import numpy as np\n",
    "from PIL import Image"
   ],
   "metadata": {
    "collapsed": false,
    "pycharm": {
     "name": "#%%\n"
    }
   }
  },
  {
   "cell_type": "code",
   "execution_count": null,
   "outputs": [],
   "source": [
    "#export \n",
    "def HSV_to_RGB(cin):\n",
    "    \"\"\"\\\n",
    "    HSV to RGB transformation.\n",
    "    \"\"\"\n",
    "\n",
    "    # HSV channels\n",
    "    h, s, v = cin\n",
    "\n",
    "    i = (6. * h).astype(int)\n",
    "    f = (6. * h) - i\n",
    "    p = v * (1. - s)\n",
    "    q = v * (1. - s * f)\n",
    "    t = v * (1. - s * (1. - f))\n",
    "    i0 = (i % 6 == 0)\n",
    "    i1 = (i == 1)\n",
    "    i2 = (i == 2)\n",
    "    i3 = (i == 3)\n",
    "    i4 = (i == 4)\n",
    "    i5 = (i == 5)\n",
    "\n",
    "    imout = np.zeros(h.shape + (3,), dtype=h.dtype)\n",
    "    imout[:, :, 0] = 255 * (i0 * v + i1 * q + i2 * p + i3 * p + i4 * t + i5 * v)\n",
    "    imout[:, :, 1] = 255 * (i0 * t + i1 * v + i2 * v + i3 * q + i4 * p + i5 * p)\n",
    "    imout[:, :, 2] = 255 * (i0 * p + i1 * p + i2 * t + i3 * v + i4 * v + i5 * q)\n",
    "\n",
    "    return imout\n",
    "def P1A_to_HSV(cin, vmin=None, vmax=None):\n",
    "    \"\"\"\\\n",
    "    Transform a complex array into an RGB image,\n",
    "    mapping phase to hue, amplitude to value and\n",
    "    keeping maximum saturation.\n",
    "    \"\"\"\n",
    "    # HSV channels\n",
    "    h = .5 * np.angle(cin) / np.pi + .5\n",
    "    s = np.ones(cin.shape)\n",
    "\n",
    "    v = abs(cin)\n",
    "    if vmin is None: vmin = 0.\n",
    "    if vmax is None: vmax = v.max()\n",
    "    assert vmin < vmax\n",
    "    v = (v.clip(vmin, vmax) - vmin) / (vmax - vmin)\n",
    "\n",
    "    return HSV_to_RGB((h, s, v))\n",
    "\n",
    "\n",
    "def imsave(a, filename=None, vmin=None, vmax=None, cmap=None):\n",
    "    \"\"\"\n",
    "    imsave(a) converts array a into, and returns a PIL image\n",
    "    imsave(a, filename) returns the image and also saves it to filename\n",
    "    imsave(a, ..., vmin=vmin, vmax=vmax) clips the array to values between vmin and vmax.\n",
    "    imsave(a, ..., cmap=cmap) uses a matplotlib colormap.\n",
    "    \"\"\"\n",
    "\n",
    "    if a.dtype.kind == 'c':\n",
    "        # Image is complex\n",
    "        if cmap is not None:\n",
    "            print('imsave: Ignoring provided cmap - input array is complex')\n",
    "        i = P1A_to_HSV(a, vmin, vmax)\n",
    "        im = Image.fromarray(np.uint8(i), mode='RGB')\n",
    "\n",
    "    else:\n",
    "        if vmin is None:\n",
    "            vmin = a.min()\n",
    "        if vmax is None:\n",
    "            vmax = a.max()\n",
    "        im = Image.fromarray((255 * (a.clip(vmin, vmax) - vmin) / (vmax - vmin)).astype('uint8'))\n",
    "        if cmap is not None:\n",
    "            r = im.point(lambda x: cmap(x / 255.0)[0] * 255)\n",
    "            g = im.point(lambda x: cmap(x / 255.0)[1] * 255)\n",
    "            b = im.point(lambda x: cmap(x / 255.0)[2] * 255)\n",
    "            im = Image.merge(\"RGB\", (r, g, b))\n",
    "            # b = (255*(a.clip(vmin,vmax)-vmin)/(vmax-vmin)).astype('uint8')\n",
    "            # im = Image.fromstring('L', a.shape[-1::-1], b.tostring())\n",
    "\n",
    "    if filename is not None:\n",
    "        im.save(filename)\n",
    "    return im"
   ],
   "metadata": {
    "collapsed": false,
    "pycharm": {
     "name": "#%%\n"
    }
   }
  },
  {
   "cell_type": "code",
   "execution_count": null,
   "outputs": [],
   "source": [
    "#export \n",
    "def plot_complex_multi(x, title='_', figsize=(10, 10), savePath=None, scale=None, show=True):\n",
    "    n, h, w = x.shape\n",
    "    rows = int(np.floor(np.sqrt(n)))\n",
    "    cols = n // rows + 1\n",
    "    fontprops = fm.FontProperties(size=18)\n",
    "    fig = plt.figure(dpi=300, constrained_layout=True)\n",
    "    gs1 = gridspec.GridSpec(rows, cols)\n",
    "    gs1.update(wspace=0.1, hspace=0.1)\n",
    "    for r in range(rows):\n",
    "        for c in range(cols):\n",
    "            i = cols * r + c\n",
    "            ax = plt.subplot(gs1[i])\n",
    "            if i < n:\n",
    "                imax1 = ax.imshow(imsave(x[i]), interpolation='nearest')\n",
    "                if scale is not None and i == 0:\n",
    "                    scalebar = AnchoredSizeBar(ax.transData,\n",
    "                                               scale[0], scale[1], 'lower right',\n",
    "                                               pad=0.1,\n",
    "                                               color='white',\n",
    "                                               frameon=False,\n",
    "                                               size_vertical=x.shape[0] / 40,\n",
    "                                               fontproperties=fontprops)\n",
    "                    ax.add_artist(scalebar)\n",
    "            else:\n",
    "                ax.axis('off')\n",
    "            ax.set_xticklabels([])\n",
    "            ax.set_yticklabels([])\n",
    "            ax.set_xticks([])\n",
    "            ax.set_yticks([])\n",
    "\n",
    "    plt.suptitle(title)\n",
    "    plt.grid(False)\n",
    "    fig.set_constrained_layout_pads(w_pad=0.1, h_pad=0.1)\n",
    "    if savePath is not None:\n",
    "        fig.savefig(savePath + '.png')\n",
    "        fig.savefig(savePath + '.pdf')\n",
    "    if show:\n",
    "        plt.show()\n",
    "    return fig"
   ],
   "metadata": {
    "collapsed": false,
    "pycharm": {
     "name": "#%%\n"
    }
   }
  },
  {
   "cell_type": "code",
   "execution_count": null,
   "outputs": [],
   "source": [
    "#export \n",
    "def plot(img, title='Image', savePath=None, cmap='inferno', show=True, vmax=None, figsize=(10, 10), scale=None):\n",
    "    fig, ax = plt.subplots(figsize=figsize)\n",
    "    im = ax.imshow(img, interpolation='nearest', cmap=plt.cm.get_cmap(cmap), vmax=vmax)\n",
    "    divider = make_axes_locatable(ax)\n",
    "    cax = divider.append_axes(\"right\", size=\"5%\", pad=0.05)\n",
    "    plt.colorbar(im, cax=cax)\n",
    "    ax.set_title(title)\n",
    "    fontprops = fm.FontProperties(size=18)\n",
    "    if scale is not None:\n",
    "        scalebar = AnchoredSizeBar(ax.transData,\n",
    "                                   scale[0], scale[1], 'lower right',\n",
    "                                   pad=0.1,\n",
    "                                   color='white',\n",
    "                                   frameon=False,\n",
    "                                   size_vertical=img.shape[0] / 40,\n",
    "                                   fontproperties=fontprops)\n",
    "\n",
    "        ax.add_artist(scalebar)\n",
    "    ax.grid(False)\n",
    "    if savePath is not None:\n",
    "        fig.savefig(savePath + '.pdf', dpi=600)\n",
    "        # fig.savefig(savePath + '.eps', dpi=600)\n",
    "    if show:\n",
    "        plt.show()\n",
    "    return fig"
   ],
   "metadata": {
    "collapsed": false,
    "pycharm": {
     "name": "#%%\n"
    }
   }
  },
  {
   "cell_type": "code",
   "execution_count": null,
   "outputs": [],
   "source": [
    "#export \n",
    "def zplot(imgs, suptitle='Image', savePath=None, cmap=['hot', 'hsv'], title=['Abs', 'Phase'], show=True,\n",
    "          figsize=(9, 5), scale=None):\n",
    "    im1, im2 = imgs\n",
    "    fig = plt.figure(figsize=figsize, dpi=300)\n",
    "    fig.suptitle(suptitle, fontsize=15, y=0.8)\n",
    "    gs1 = gridspec.GridSpec(1, 2)\n",
    "    gs1.update(wspace=0, hspace=0)  # set the spacing between axes.\n",
    "    ax1 = plt.subplot(gs1[0])\n",
    "    ax2 = plt.subplot(gs1[1])\n",
    "    div1 = make_axes_locatable(ax1)\n",
    "    div2 = make_axes_locatable(ax2)\n",
    "\n",
    "    imax1 = ax1.imshow(im1, interpolation='nearest', cmap=plt.cm.get_cmap(cmap[0]))\n",
    "    imax2 = ax2.imshow(im2, interpolation='nearest', cmap=plt.cm.get_cmap(cmap[1]))\n",
    "\n",
    "    cax1 = div1.append_axes(\"left\", size=\"10%\", pad=0.4)\n",
    "    cax2 = div2.append_axes(\"right\", size=\"10%\", pad=0.4)\n",
    "\n",
    "    cbar1 = plt.colorbar(imax1, cax=cax1)\n",
    "    cbar2 = plt.colorbar(imax2, cax=cax2)\n",
    "\n",
    "    cax1.yaxis.set_ticks_position('left')\n",
    "    ax2.yaxis.set_ticks_position('right')\n",
    "\n",
    "    ax1.set_title(title[0])\n",
    "    ax2.set_title(title[1])\n",
    "\n",
    "    if scale is not None:\n",
    "        fontprops = fm.FontProperties(size=18)\n",
    "        scalebar = AnchoredSizeBar(ax1.transData,\n",
    "                                   scale[0], scale[1], 'lower right',\n",
    "                                   pad=0.1,\n",
    "                                   color='white',\n",
    "                                   frameon=False,\n",
    "                                   size_vertical=im1.shape[0] / 40,\n",
    "                                   fontproperties=fontprops)\n",
    "\n",
    "        ax1.add_artist(scalebar)\n",
    "\n",
    "    ax1.grid(False)\n",
    "    ax2.grid(False)\n",
    "\n",
    "    if show:\n",
    "        plt.show()\n",
    "    if savePath is not None:\n",
    "        # print 'saving'\n",
    "        fig.savefig(savePath + '.png')\n",
    "\n",
    "\n",
    "def plotAbsAngle(img, suptitle='Image', savePath=None, cmap=['gray', 'gray'], title=['Abs', 'Phase'], show=True,\n",
    "                 figsize=(10, 10), scale=None):\n",
    "    zplot([np.abs(img), np.angle(img)], suptitle, savePath, cmap, title, show, figsize, scale)"
   ],
   "metadata": {
    "collapsed": false,
    "pycharm": {
     "name": "#%%\n"
    }
   }
  }
 ],
 "metadata": {
  "kernelspec": {
   "display_name": "Python 3",
   "language": "python",
   "name": "python3"
  },
  "language_info": {
   "codemirror_mode": {
    "name": "ipython",
    "version": 2
   },
   "file_extension": ".py",
   "mimetype": "text/x-python",
   "name": "python",
   "nbconvert_exporter": "python",
   "pygments_lexer": "ipython2",
   "version": "2.7.6"
  },
  "pycharm": {
   "stem_cell": {
    "cell_type": "raw",
    "source": [],
    "metadata": {
     "collapsed": false
    }
   }
  }
 },
 "nbformat": 4,
 "nbformat_minor": 0
}